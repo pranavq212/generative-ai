{
 "cells": [
  {
   "cell_type": "code",
   "execution_count": 1,
   "id": "b3078756-062f-4907-98b8-9bb839fa76a8",
   "metadata": {
    "tags": []
   },
   "outputs": [
    {
     "name": "stdout",
     "output_type": "stream",
     "text": [
      "Requirement already satisfied: google-cloud-aiplatform in /opt/conda/lib/python3.10/site-packages (1.51.0)\n",
      "Collecting google-cloud-aiplatform\n",
      "  Downloading google_cloud_aiplatform-1.52.0-py2.py3-none-any.whl.metadata (30 kB)\n",
      "Collecting pymupdf\n",
      "  Downloading PyMuPDF-1.24.4-cp310-none-manylinux2014_x86_64.whl.metadata (3.4 kB)\n",
      "Requirement already satisfied: google-api-core!=2.0.*,!=2.1.*,!=2.2.*,!=2.3.*,!=2.4.*,!=2.5.*,!=2.6.*,!=2.7.*,<3.0.0dev,>=1.34.1 in /opt/conda/lib/python3.10/site-packages (from google-api-core[grpc]!=2.0.*,!=2.1.*,!=2.2.*,!=2.3.*,!=2.4.*,!=2.5.*,!=2.6.*,!=2.7.*,<3.0.0dev,>=1.34.1->google-cloud-aiplatform) (1.34.1)\n",
      "Requirement already satisfied: google-auth<3.0.0dev,>=2.14.1 in /opt/conda/lib/python3.10/site-packages (from google-cloud-aiplatform) (2.29.0)\n",
      "Requirement already satisfied: proto-plus<2.0.0dev,>=1.22.0 in /opt/conda/lib/python3.10/site-packages (from google-cloud-aiplatform) (1.23.0)\n",
      "Requirement already satisfied: protobuf!=3.20.0,!=3.20.1,!=4.21.0,!=4.21.1,!=4.21.2,!=4.21.3,!=4.21.4,!=4.21.5,<5.0.0dev,>=3.19.5 in /opt/conda/lib/python3.10/site-packages (from google-cloud-aiplatform) (3.20.3)\n",
      "Requirement already satisfied: packaging>=14.3 in /opt/conda/lib/python3.10/site-packages (from google-cloud-aiplatform) (24.0)\n",
      "Requirement already satisfied: google-cloud-storage<3.0.0dev,>=1.32.0 in /opt/conda/lib/python3.10/site-packages (from google-cloud-aiplatform) (2.14.0)\n",
      "Requirement already satisfied: google-cloud-bigquery!=3.20.0,<4.0.0dev,>=1.15.0 in /opt/conda/lib/python3.10/site-packages (from google-cloud-aiplatform) (3.22.0)\n",
      "Requirement already satisfied: google-cloud-resource-manager<3.0.0dev,>=1.3.3 in /opt/conda/lib/python3.10/site-packages (from google-cloud-aiplatform) (1.12.3)\n",
      "Requirement already satisfied: shapely<3.0.0dev in /opt/conda/lib/python3.10/site-packages (from google-cloud-aiplatform) (2.0.4)\n",
      "Requirement already satisfied: pydantic<3 in /opt/conda/lib/python3.10/site-packages (from google-cloud-aiplatform) (1.10.15)\n",
      "Requirement already satisfied: docstring-parser<1 in /opt/conda/lib/python3.10/site-packages (from google-cloud-aiplatform) (0.16)\n",
      "Collecting PyMuPDFb==1.24.3 (from pymupdf)\n",
      "  Downloading PyMuPDFb-1.24.3-py3-none-manylinux2014_x86_64.manylinux_2_17_x86_64.whl.metadata (1.4 kB)\n",
      "Requirement already satisfied: googleapis-common-protos<2.0dev,>=1.56.2 in /opt/conda/lib/python3.10/site-packages (from google-api-core!=2.0.*,!=2.1.*,!=2.2.*,!=2.3.*,!=2.4.*,!=2.5.*,!=2.6.*,!=2.7.*,<3.0.0dev,>=1.34.1->google-api-core[grpc]!=2.0.*,!=2.1.*,!=2.2.*,!=2.3.*,!=2.4.*,!=2.5.*,!=2.6.*,!=2.7.*,<3.0.0dev,>=1.34.1->google-cloud-aiplatform) (1.63.0)\n",
      "Requirement already satisfied: requests<3.0.0dev,>=2.18.0 in /opt/conda/lib/python3.10/site-packages (from google-api-core!=2.0.*,!=2.1.*,!=2.2.*,!=2.3.*,!=2.4.*,!=2.5.*,!=2.6.*,!=2.7.*,<3.0.0dev,>=1.34.1->google-api-core[grpc]!=2.0.*,!=2.1.*,!=2.2.*,!=2.3.*,!=2.4.*,!=2.5.*,!=2.6.*,!=2.7.*,<3.0.0dev,>=1.34.1->google-cloud-aiplatform) (2.31.0)\n",
      "Requirement already satisfied: grpcio<2.0dev,>=1.33.2 in /opt/conda/lib/python3.10/site-packages (from google-api-core[grpc]!=2.0.*,!=2.1.*,!=2.2.*,!=2.3.*,!=2.4.*,!=2.5.*,!=2.6.*,!=2.7.*,<3.0.0dev,>=1.34.1->google-cloud-aiplatform) (1.63.0)\n",
      "Requirement already satisfied: grpcio-status<2.0dev,>=1.33.2 in /opt/conda/lib/python3.10/site-packages (from google-api-core[grpc]!=2.0.*,!=2.1.*,!=2.2.*,!=2.3.*,!=2.4.*,!=2.5.*,!=2.6.*,!=2.7.*,<3.0.0dev,>=1.34.1->google-cloud-aiplatform) (1.48.2)\n",
      "Requirement already satisfied: cachetools<6.0,>=2.0.0 in /opt/conda/lib/python3.10/site-packages (from google-auth<3.0.0dev,>=2.14.1->google-cloud-aiplatform) (5.3.3)\n",
      "Requirement already satisfied: pyasn1-modules>=0.2.1 in /opt/conda/lib/python3.10/site-packages (from google-auth<3.0.0dev,>=2.14.1->google-cloud-aiplatform) (0.4.0)\n",
      "Requirement already satisfied: rsa<5,>=3.1.4 in /opt/conda/lib/python3.10/site-packages (from google-auth<3.0.0dev,>=2.14.1->google-cloud-aiplatform) (4.9)\n",
      "Requirement already satisfied: google-cloud-core<3.0.0dev,>=1.6.0 in /opt/conda/lib/python3.10/site-packages (from google-cloud-bigquery!=3.20.0,<4.0.0dev,>=1.15.0->google-cloud-aiplatform) (2.4.1)\n",
      "Requirement already satisfied: google-resumable-media<3.0dev,>=0.6.0 in /opt/conda/lib/python3.10/site-packages (from google-cloud-bigquery!=3.20.0,<4.0.0dev,>=1.15.0->google-cloud-aiplatform) (2.7.0)\n",
      "Requirement already satisfied: python-dateutil<3.0dev,>=2.7.2 in /opt/conda/lib/python3.10/site-packages (from google-cloud-bigquery!=3.20.0,<4.0.0dev,>=1.15.0->google-cloud-aiplatform) (2.9.0)\n",
      "Requirement already satisfied: grpc-google-iam-v1<1.0.0dev,>=0.12.4 in /opt/conda/lib/python3.10/site-packages (from google-cloud-resource-manager<3.0.0dev,>=1.3.3->google-cloud-aiplatform) (0.13.0)\n",
      "Requirement already satisfied: google-crc32c<2.0dev,>=1.0 in /opt/conda/lib/python3.10/site-packages (from google-cloud-storage<3.0.0dev,>=1.32.0->google-cloud-aiplatform) (1.5.0)\n",
      "Requirement already satisfied: typing-extensions>=4.2.0 in /opt/conda/lib/python3.10/site-packages (from pydantic<3->google-cloud-aiplatform) (4.11.0)\n",
      "Requirement already satisfied: numpy<3,>=1.14 in /opt/conda/lib/python3.10/site-packages (from shapely<3.0.0dev->google-cloud-aiplatform) (1.25.2)\n",
      "Requirement already satisfied: pyasn1<0.7.0,>=0.4.6 in /opt/conda/lib/python3.10/site-packages (from pyasn1-modules>=0.2.1->google-auth<3.0.0dev,>=2.14.1->google-cloud-aiplatform) (0.6.0)\n",
      "Requirement already satisfied: six>=1.5 in /opt/conda/lib/python3.10/site-packages (from python-dateutil<3.0dev,>=2.7.2->google-cloud-bigquery!=3.20.0,<4.0.0dev,>=1.15.0->google-cloud-aiplatform) (1.16.0)\n",
      "Requirement already satisfied: charset-normalizer<4,>=2 in /opt/conda/lib/python3.10/site-packages (from requests<3.0.0dev,>=2.18.0->google-api-core!=2.0.*,!=2.1.*,!=2.2.*,!=2.3.*,!=2.4.*,!=2.5.*,!=2.6.*,!=2.7.*,<3.0.0dev,>=1.34.1->google-api-core[grpc]!=2.0.*,!=2.1.*,!=2.2.*,!=2.3.*,!=2.4.*,!=2.5.*,!=2.6.*,!=2.7.*,<3.0.0dev,>=1.34.1->google-cloud-aiplatform) (3.3.2)\n",
      "Requirement already satisfied: idna<4,>=2.5 in /opt/conda/lib/python3.10/site-packages (from requests<3.0.0dev,>=2.18.0->google-api-core!=2.0.*,!=2.1.*,!=2.2.*,!=2.3.*,!=2.4.*,!=2.5.*,!=2.6.*,!=2.7.*,<3.0.0dev,>=1.34.1->google-api-core[grpc]!=2.0.*,!=2.1.*,!=2.2.*,!=2.3.*,!=2.4.*,!=2.5.*,!=2.6.*,!=2.7.*,<3.0.0dev,>=1.34.1->google-cloud-aiplatform) (3.7)\n",
      "Requirement already satisfied: urllib3<3,>=1.21.1 in /opt/conda/lib/python3.10/site-packages (from requests<3.0.0dev,>=2.18.0->google-api-core!=2.0.*,!=2.1.*,!=2.2.*,!=2.3.*,!=2.4.*,!=2.5.*,!=2.6.*,!=2.7.*,<3.0.0dev,>=1.34.1->google-api-core[grpc]!=2.0.*,!=2.1.*,!=2.2.*,!=2.3.*,!=2.4.*,!=2.5.*,!=2.6.*,!=2.7.*,<3.0.0dev,>=1.34.1->google-cloud-aiplatform) (1.26.18)\n",
      "Requirement already satisfied: certifi>=2017.4.17 in /opt/conda/lib/python3.10/site-packages (from requests<3.0.0dev,>=2.18.0->google-api-core!=2.0.*,!=2.1.*,!=2.2.*,!=2.3.*,!=2.4.*,!=2.5.*,!=2.6.*,!=2.7.*,<3.0.0dev,>=1.34.1->google-api-core[grpc]!=2.0.*,!=2.1.*,!=2.2.*,!=2.3.*,!=2.4.*,!=2.5.*,!=2.6.*,!=2.7.*,<3.0.0dev,>=1.34.1->google-cloud-aiplatform) (2024.2.2)\n",
      "Downloading google_cloud_aiplatform-1.52.0-py2.py3-none-any.whl (5.0 MB)\n",
      "\u001b[2K   \u001b[90m━━━━━━━━━━━━━━━━━━━━━━━━━━━━━━━━━━━━━━━━\u001b[0m \u001b[32m5.0/5.0 MB\u001b[0m \u001b[31m22.2 MB/s\u001b[0m eta \u001b[36m0:00:00\u001b[0m00:01\u001b[0m00:01\u001b[0m\n",
      "\u001b[?25hDownloading PyMuPDF-1.24.4-cp310-none-manylinux2014_x86_64.whl (3.5 MB)\n",
      "\u001b[2K   \u001b[90m━━━━━━━━━━━━━━━━━━━━━━━━━━━━━━━━━━━━━━━━\u001b[0m \u001b[32m3.5/3.5 MB\u001b[0m \u001b[31m49.0 MB/s\u001b[0m eta \u001b[36m0:00:00\u001b[0m00:01\u001b[0m00:01\u001b[0m\n",
      "\u001b[?25hDownloading PyMuPDFb-1.24.3-py3-none-manylinux2014_x86_64.manylinux_2_17_x86_64.whl (15.8 MB)\n",
      "\u001b[2K   \u001b[90m━━━━━━━━━━━━━━━━━━━━━━━━━━━━━━━━━━━━━━━━\u001b[0m \u001b[32m15.8/15.8 MB\u001b[0m \u001b[31m49.3 MB/s\u001b[0m eta \u001b[36m0:00:00\u001b[0m00:01\u001b[0m00:01\u001b[0m\n",
      "\u001b[?25hInstalling collected packages: PyMuPDFb, pymupdf, google-cloud-aiplatform\n",
      "\u001b[33m  WARNING: The script pymupdf is installed in '/root/.local/bin' which is not on PATH.\n",
      "  Consider adding this directory to PATH or, if you prefer to suppress this warning, use --no-warn-script-location.\u001b[0m\u001b[33m\n",
      "\u001b[0m\u001b[33m  WARNING: The script pymupdf is installed in '/root/.local/bin' which is not on PATH.\n",
      "  Consider adding this directory to PATH or, if you prefer to suppress this warning, use --no-warn-script-location.\u001b[0m\u001b[33m\n",
      "\u001b[0m\u001b[33m  WARNING: The script tb-gcp-uploader is installed in '/root/.local/bin' which is not on PATH.\n",
      "  Consider adding this directory to PATH or, if you prefer to suppress this warning, use --no-warn-script-location.\u001b[0m\u001b[33m\n",
      "\u001b[0mSuccessfully installed PyMuPDFb-1.24.3 google-cloud-aiplatform-1.52.0 pymupdf-1.24.4\n",
      "\u001b[33mWARNING: Running pip as the 'root' user can result in broken permissions and conflicting behaviour with the system package manager. It is recommended to use a virtual environment instead: https://pip.pypa.io/warnings/venv\u001b[0m\u001b[33m\n",
      "\u001b[0m"
     ]
    }
   ],
   "source": [
    "! pip3 install --upgrade --user google-cloud-aiplatform pymupdf"
   ]
  },
  {
   "cell_type": "code",
   "execution_count": 1,
   "id": "6eb15207-7445-4e4d-9aa9-9ea4eee25d99",
   "metadata": {
    "tags": []
   },
   "outputs": [],
   "source": [
    "PROJECT = !gcloud config get-value project\n",
    "PROJECT_ID = PROJECT[0]\n",
    "LOCATION = \"us-central1\""
   ]
  },
  {
   "cell_type": "code",
   "execution_count": 2,
   "id": "a4b8db8e-2f39-4f26-8472-f17f12520c3f",
   "metadata": {
    "tags": []
   },
   "outputs": [],
   "source": [
    "from IPython.display import Markdown, display\n",
    "from vertexai.preview.generative_models import (\n",
    "    Content,\n",
    "    GenerationConfig,\n",
    "    GenerationResponse,\n",
    "    GenerativeModel,\n",
    "    Image,\n",
    "    Part,\n",
    ")\n",
    "from vertexai.language_models import TextEmbeddingModel"
   ]
  },
  {
   "cell_type": "code",
   "execution_count": 3,
   "id": "43d9ee58-1b40-45d4-9533-547c0352eb72",
   "metadata": {
    "tags": []
   },
   "outputs": [],
   "source": [
    "model = GenerativeModel(\"gemini-pro-vision\")\n",
    "text_embedding_model = TextEmbeddingModel.from_pretrained(\"textembedding-gecko@001\")"
   ]
  },
  {
   "cell_type": "code",
   "execution_count": 4,
   "id": "6a5d6e98-2e0e-4228-bcdc-2c1170513582",
   "metadata": {
    "tags": []
   },
   "outputs": [],
   "source": [
    "import os\n",
    "import urllib.request\n",
    "import sys\n",
    "\n",
    "if not os.path.exists(\"utils\"):\n",
    "    os.makedirs(\"utils\")\n",
    "\n",
    "\n",
    "# download the helper scripts from utils folder\n",
    "url_prefix = \"https://raw.githubusercontent.com/GoogleCloudPlatform/generative-ai/main/gemini/use-cases/retrieval-augmented-generation/utils/\"\n",
    "files = [\"intro_multimodal_rag_utils.py\"]\n",
    "\n",
    "for fname in files:\n",
    "    urllib.request.urlretrieve(f\"{url_prefix}/{fname}\", filename=f\"utils/{fname}\")\n"
   ]
  },
  {
   "cell_type": "code",
   "execution_count": 5,
   "id": "042b34eb-839f-4f5b-9833-d4423cb52fb7",
   "metadata": {
    "tags": []
   },
   "outputs": [
    {
     "name": "stdout",
     "output_type": "stream",
     "text": [
      "Building synchronization state...\n",
      "Starting synchronization...\n",
      "Copying gs://github-repo/rag/intro_multimodal_rag/data/gemini_v1_5_report_technical.pdf...\n",
      "Copying gs://github-repo/rag/intro_multimodal_rag/class_a_share.png...          \n",
      "Copying gs://github-repo/rag/intro_multimodal_rag/data/Google Cloud TPU blog.pdf...\n",
      "Copying gs://github-repo/rag/intro_multimodal_rag/data/google-10k-sample-part1.pdf...\n",
      "Copying gs://github-repo/rag/intro_multimodal_rag/data/2022-alphabet-annual-report.pdf...\n",
      "Copying gs://github-repo/rag/intro_multimodal_rag/data/med_gemini.pdf...        \n",
      "Copying gs://github-repo/rag/intro_multimodal_rag/data/alphafold_research_paper.pdf...\n",
      "Copying gs://github-repo/rag/intro_multimodal_rag/data/tactic_ai_paper.pdf...   \n",
      "Copying gs://github-repo/rag/intro_multimodal_rag/data/gemma_technical_paper.pdf...\n",
      "Copying gs://github-repo/rag/intro_multimodal_rag/data/google-10k-sample-part2.pdf...\n",
      "Copying gs://github-repo/rag/intro_multimodal_rag/data/the-ethics-of-advanced-ai-assistants-2024-i.pdf...\n",
      "Copying gs://github-repo/rag/intro_multimodal_rag/images/2022-alphabet-annual-report.pdf_image_10_0_79.jpeg...\n",
      "Copying gs://github-repo/rag/intro_multimodal_rag/images/2022-alphabet-annual-report.pdf_image_10_1_80.jpeg...\n",
      "Copying gs://github-repo/rag/intro_multimodal_rag/images/2022-alphabet-annual-report.pdf_image_11_0_84.jpeg...\n",
      "Copying gs://github-repo/rag/intro_multimodal_rag/images/2022-alphabet-annual-report.pdf_image_11_1_85.jpeg...\n",
      "Copying gs://github-repo/rag/intro_multimodal_rag/images/2022-alphabet-annual-report.pdf_image_12_0_88.jpeg...\n",
      "Copying gs://github-repo/rag/intro_multimodal_rag/images/2022-alphabet-annual-report.pdf_image_12_1_89.jpeg...\n",
      "Copying gs://github-repo/rag/intro_multimodal_rag/images/2022-alphabet-annual-report.pdf_image_12_2_90.jpeg...\n",
      "Copying gs://github-repo/rag/intro_multimodal_rag/images/2022-alphabet-annual-report.pdf_image_14_0_95.jpeg...\n",
      "Copying gs://github-repo/rag/intro_multimodal_rag/images/2022-alphabet-annual-report.pdf_image_15_0_100.jpeg...\n",
      "Copying gs://github-repo/rag/intro_multimodal_rag/images/2022-alphabet-annual-report.pdf_image_16_0_104.jpeg...\n",
      "Copying gs://github-repo/rag/intro_multimodal_rag/images/2022-alphabet-annual-report.pdf_image_16_1_105.jpeg...\n",
      "Copying gs://github-repo/rag/intro_multimodal_rag/images/2022-alphabet-annual-report.pdf_image_18_0_110.jpeg...\n",
      "Copying gs://github-repo/rag/intro_multimodal_rag/images/2022-alphabet-annual-report.pdf_image_18_1_112.jpeg...\n",
      "Copying gs://github-repo/rag/intro_multimodal_rag/images/2022-alphabet-annual-report.pdf_image_19_0_116.jpeg...\n",
      "Copying gs://github-repo/rag/intro_multimodal_rag/images/2022-alphabet-annual-report.pdf_image_22_0_123.jpeg...\n",
      "Copying gs://github-repo/rag/intro_multimodal_rag/images/2022-alphabet-annual-report.pdf_image_22_1_124.jpeg...\n",
      "Copying gs://github-repo/rag/intro_multimodal_rag/images/2022-alphabet-annual-report.pdf_image_23_0_127.jpeg...\n",
      "Copying gs://github-repo/rag/intro_multimodal_rag/images/2022-alphabet-annual-report.pdf_image_24_0_130.jpeg...\n",
      "Copying gs://github-repo/rag/intro_multimodal_rag/images/2022-alphabet-annual-report.pdf_image_25_0_133.jpeg...\n",
      "Copying gs://github-repo/rag/intro_multimodal_rag/images/2022-alphabet-annual-report.pdf_image_26_0_136.jpeg...\n",
      "Copying gs://github-repo/rag/intro_multimodal_rag/images/2022-alphabet-annual-report.pdf_image_27_0_140.jpeg...\n",
      "Copying gs://github-repo/rag/intro_multimodal_rag/images/2022-alphabet-annual-report.pdf_image_27_1_141.jpeg...\n",
      "Copying gs://github-repo/rag/intro_multimodal_rag/images/2022-alphabet-annual-report.pdf_image_28_0_145.jpeg...\n",
      "Copying gs://github-repo/rag/intro_multimodal_rag/images/2022-alphabet-annual-report.pdf_image_30_0_150.jpeg...\n",
      "Copying gs://github-repo/rag/intro_multimodal_rag/images/2022-alphabet-annual-report.pdf_image_30_1_151.jpeg...\n",
      "Copying gs://github-repo/rag/intro_multimodal_rag/images/2022-alphabet-annual-report.pdf_image_30_2_152.jpeg...\n",
      "Copying gs://github-repo/rag/intro_multimodal_rag/images/2022-alphabet-annual-report.pdf_image_31_0_155.jpeg...\n",
      "Copying gs://github-repo/rag/intro_multimodal_rag/images/2022-alphabet-annual-report.pdf_image_32_0_158.jpeg...\n",
      "Copying gs://github-repo/rag/intro_multimodal_rag/images/2022-alphabet-annual-report.pdf_image_32_1_159.jpeg...\n",
      "Copying gs://github-repo/rag/intro_multimodal_rag/images/2022-alphabet-annual-report.pdf_image_32_2_161.jpeg...\n",
      "Copying gs://github-repo/rag/intro_multimodal_rag/images/2022-alphabet-annual-report.pdf_image_32_3_162.jpeg...\n",
      "Copying gs://github-repo/rag/intro_multimodal_rag/images/2022-alphabet-annual-report.pdf_image_3_0_16.jpeg...\n",
      "Copying gs://github-repo/rag/intro_multimodal_rag/images/2022-alphabet-annual-report.pdf_image_6_0_26.jpeg...\n",
      "Copying gs://github-repo/rag/intro_multimodal_rag/images/2022-alphabet-annual-report.pdf_image_6_1_28.jpeg...\n",
      "Copying gs://github-repo/rag/intro_multimodal_rag/images/2022-alphabet-annual-report.pdf_image_6_2_30.jpeg...\n",
      "Copying gs://github-repo/rag/intro_multimodal_rag/images/2022-alphabet-annual-report.pdf_image_7_0_46.jpeg...\n",
      "Copying gs://github-repo/rag/intro_multimodal_rag/images/2022-alphabet-annual-report.pdf_image_8_0_50.jpeg...\n",
      "Copying gs://github-repo/rag/intro_multimodal_rag/images/2022-alphabet-annual-report.pdf_image_8_1_53.jpeg...\n",
      "Copying gs://github-repo/rag/intro_multimodal_rag/images/2022-alphabet-annual-report.pdf_image_8_2_55.jpeg...\n",
      "Copying gs://github-repo/rag/intro_multimodal_rag/images/2022-alphabet-annual-report.pdf_image_9_0_74.jpeg...\n",
      "Copying gs://github-repo/rag/intro_multimodal_rag/images/Google Cloud TPU blog.pdf_image_11_0_62.jpeg...\n",
      "Copying gs://github-repo/rag/intro_multimodal_rag/images/Google Cloud TPU blog.pdf_image_11_1_63.jpeg...\n",
      "Copying gs://github-repo/rag/intro_multimodal_rag/images/Google Cloud TPU blog.pdf_image_12_0_66.jpeg...\n",
      "Copying gs://github-repo/rag/intro_multimodal_rag/images/Google Cloud TPU blog.pdf_image_13_0_69.jpeg...\n",
      "Copying gs://github-repo/rag/intro_multimodal_rag/images/Google Cloud TPU blog.pdf_image_14_0_72.jpeg...\n",
      "Copying gs://github-repo/rag/intro_multimodal_rag/images/Google Cloud TPU blog.pdf_image_15_0_75.jpeg...\n",
      "Copying gs://github-repo/rag/intro_multimodal_rag/images/Google Cloud TPU blog.pdf_image_1_0_10.jpeg...\n",
      "Copying gs://github-repo/rag/intro_multimodal_rag/images/Google Cloud TPU blog.pdf_image_3_0_18.jpeg...\n",
      "Copying gs://github-repo/rag/intro_multimodal_rag/images/Google Cloud TPU blog.pdf_image_6_0_35.jpeg...\n",
      "Copying gs://github-repo/rag/intro_multimodal_rag/images/alphafold_research_paper.pdf_image_11_0_574.jpeg...\n",
      "Copying gs://github-repo/rag/intro_multimodal_rag/images/alphafold_research_paper.pdf_image_13_0_352.jpeg...\n",
      "Copying gs://github-repo/rag/intro_multimodal_rag/images/alphafold_research_paper.pdf_image_13_1_600.jpeg...\n",
      "Copying gs://github-repo/rag/intro_multimodal_rag/images/alphafold_research_paper.pdf_image_13_2_586.jpeg...\n",
      "Copying gs://github-repo/rag/intro_multimodal_rag/images/alphafold_research_paper.pdf_image_1_0_63.jpeg...\n",
      "Copying gs://github-repo/rag/intro_multimodal_rag/images/alphafold_research_paper.pdf_image_1_1_65.jpeg...\n",
      "Copying gs://github-repo/rag/intro_multimodal_rag/images/alphafold_research_paper.pdf_image_1_2_67.jpeg...\n",
      "Copying gs://github-repo/rag/intro_multimodal_rag/images/alphafold_research_paper.pdf_image_1_3_69.jpeg...\n",
      "Copying gs://github-repo/rag/intro_multimodal_rag/images/alphafold_research_paper.pdf_image_1_4_71.jpeg...\n",
      "Copying gs://github-repo/rag/intro_multimodal_rag/images/alphafold_research_paper.pdf_image_21_0_1005.jpeg...\n",
      "Copying gs://github-repo/rag/intro_multimodal_rag/images/alphafold_research_paper.pdf_image_21_1_1004.jpeg...\n",
      "Copying gs://github-repo/rag/intro_multimodal_rag/images/alphafold_research_paper.pdf_image_21_2_1008.jpeg...\n",
      "Copying gs://github-repo/rag/intro_multimodal_rag/images/alphafold_research_paper.pdf_image_22_0_1015.jpeg...\n",
      "Copying gs://github-repo/rag/intro_multimodal_rag/images/alphafold_research_paper.pdf_image_23_0_1022.jpeg...\n",
      "Copying gs://github-repo/rag/intro_multimodal_rag/images/alphafold_research_paper.pdf_image_23_1_1024.jpeg...\n",
      "Copying gs://github-repo/rag/intro_multimodal_rag/images/alphafold_research_paper.pdf_image_23_2_1026.jpeg...\n",
      "Copying gs://github-repo/rag/intro_multimodal_rag/images/alphafold_research_paper.pdf_image_23_3_1028.jpeg...\n",
      "Copying gs://github-repo/rag/intro_multimodal_rag/images/alphafold_research_paper.pdf_image_23_4_1030.jpeg...\n",
      "Copying gs://github-repo/rag/intro_multimodal_rag/images/alphafold_research_paper.pdf_image_3_0_217.jpeg...\n",
      "Copying gs://github-repo/rag/intro_multimodal_rag/images/alphafold_research_paper.pdf_image_3_1_219.jpeg...\n",
      "Copying gs://github-repo/rag/intro_multimodal_rag/images/alphafold_research_paper.pdf_image_3_2_220.jpeg...\n",
      "Copying gs://github-repo/rag/intro_multimodal_rag/images/alphafold_research_paper.pdf_image_3_3_221.jpeg...\n",
      "Copying gs://github-repo/rag/intro_multimodal_rag/images/alphafold_research_paper.pdf_image_3_4_223.jpeg...\n",
      "Copying gs://github-repo/rag/intro_multimodal_rag/images/alphafold_research_paper.pdf_image_3_5_224.jpeg...\n",
      "Copying gs://github-repo/rag/intro_multimodal_rag/images/alphafold_research_paper.pdf_image_3_6_226.jpeg...\n",
      "Copying gs://github-repo/rag/intro_multimodal_rag/images/alphafold_research_paper.pdf_image_3_7_228.jpeg...\n",
      "Copying gs://github-repo/rag/intro_multimodal_rag/images/alphafold_research_paper.pdf_image_3_8_230.jpeg...\n",
      "Copying gs://github-repo/rag/intro_multimodal_rag/images/alphafold_research_paper.pdf_image_5_0_299.jpeg...\n",
      "Copying gs://github-repo/rag/intro_multimodal_rag/images/alphafold_research_paper.pdf_image_5_2_297.jpeg...\n",
      "Copying gs://github-repo/rag/intro_multimodal_rag/images/alphafold_research_paper.pdf_image_5_1_301.jpeg...\n",
      "Copying gs://github-repo/rag/intro_multimodal_rag/images/alphafold_research_paper.pdf_image_5_3_340.jpeg...\n",
      "Copying gs://github-repo/rag/intro_multimodal_rag/images/alphafold_research_paper.pdf_image_5_4_352.jpeg...\n",
      "Copying gs://github-repo/rag/intro_multimodal_rag/images/alphafold_research_paper.pdf_image_5_5_353.jpeg...\n",
      "Copying gs://github-repo/rag/intro_multimodal_rag/images/gemini_v1_5_report_technical.pdf_image_0_0_1910.jpeg...\n",
      "Copying gs://github-repo/rag/intro_multimodal_rag/images/gemini_v1_5_report_technical.pdf_image_24_0_488.jpeg...\n",
      "Copying gs://github-repo/rag/intro_multimodal_rag/images/gemini_v1_5_report_technical.pdf_image_44_0_606.jpeg...\n",
      "Copying gs://github-repo/rag/intro_multimodal_rag/images/gemini_v1_5_report_technical.pdf_image_4_0_142.jpeg...\n",
      "Copying gs://github-repo/rag/intro_multimodal_rag/images/gemini_v1_5_report_technical.pdf_image_4_1_143.jpeg...\n",
      "Copying gs://github-repo/rag/intro_multimodal_rag/images/gemini_v1_5_report_technical.pdf_image_5_1_149.jpeg...\n",
      "Copying gs://github-repo/rag/intro_multimodal_rag/images/gemini_v1_5_report_technical.pdf_image_5_0_148.jpeg...\n",
      "Copying gs://github-repo/rag/intro_multimodal_rag/images/google-10k-sample-part1.pdf_image_1_0_11.jpeg...\n",
      "Copying gs://github-repo/rag/intro_multimodal_rag/images/gemma_technical_paper.pdf_image_0_0_153.jpeg...\n",
      "Copying gs://github-repo/rag/intro_multimodal_rag/images/google-10k-sample-part1.pdf_image_2_0_15.jpeg...\n",
      "Copying gs://github-repo/rag/intro_multimodal_rag/images/google-10k-sample-part1.pdf_image_3_0_18.jpeg...\n",
      "Copying gs://github-repo/rag/intro_multimodal_rag/images/google-10k-sample-part1.pdf_image_4_0_21.jpeg...\n",
      "Copying gs://github-repo/rag/intro_multimodal_rag/images/google-10k-sample-part2.pdf_image_0_1_8.jpeg...\n",
      "Copying gs://github-repo/rag/intro_multimodal_rag/images/google-10k-sample-part2.pdf_image_0_0_6.jpeg...\n",
      "Copying gs://github-repo/rag/intro_multimodal_rag/images/google-10k-sample-part2.pdf_image_1_0_13.jpeg...\n",
      "Copying gs://github-repo/rag/intro_multimodal_rag/images/google-10k-sample-part2.pdf_image_3_0_19.jpeg...\n",
      "Copying gs://github-repo/rag/intro_multimodal_rag/images/google-10k-sample-part2.pdf_image_4_0_22.jpeg...\n",
      "Copying gs://github-repo/rag/intro_multimodal_rag/images/google-10k-sample-part2.pdf_image_4_1_23.jpeg...\n",
      "Copying gs://github-repo/rag/intro_multimodal_rag/images/google-10k-sample-part2.pdf_image_5_0_26.jpeg...\n",
      "Copying gs://github-repo/rag/intro_multimodal_rag/images/med_gemini.pdf_image_0_0_46.jpeg...\n",
      "Copying gs://github-repo/rag/intro_multimodal_rag/images/med_gemini.pdf_image_0_1_48.jpeg...\n",
      "Copying gs://github-repo/rag/intro_multimodal_rag/images/med_gemini.pdf_image_15_0_464.jpeg...\n",
      "Copying gs://github-repo/rag/intro_multimodal_rag/images/med_gemini.pdf_image_15_1_465.jpeg...\n",
      "Copying gs://github-repo/rag/intro_multimodal_rag/images/med_gemini.pdf_image_16_0_480.jpeg...\n",
      "Copying gs://github-repo/rag/intro_multimodal_rag/images/med_gemini.pdf_image_16_1_481.jpeg...\n",
      "Copying gs://github-repo/rag/intro_multimodal_rag/images/med_gemini.pdf_image_18_0_573.jpeg...\n",
      "Copying gs://github-repo/rag/intro_multimodal_rag/images/med_gemini.pdf_image_18_2_576.jpeg...\n",
      "Copying gs://github-repo/rag/intro_multimodal_rag/images/med_gemini.pdf_image_18_1_575.jpeg...\n",
      "Copying gs://github-repo/rag/intro_multimodal_rag/images/med_gemini.pdf_image_18_3_578.jpeg...\n",
      "Copying gs://github-repo/rag/intro_multimodal_rag/images/med_gemini.pdf_image_19_0_613.jpeg...\n",
      "Copying gs://github-repo/rag/intro_multimodal_rag/images/med_gemini.pdf_image_19_2_617.jpeg...\n",
      "Copying gs://github-repo/rag/intro_multimodal_rag/images/med_gemini.pdf_image_19_1_615.jpeg...\n",
      "Copying gs://github-repo/rag/intro_multimodal_rag/images/med_gemini.pdf_image_19_3_618.jpeg...\n",
      "Copying gs://github-repo/rag/intro_multimodal_rag/images/med_gemini.pdf_image_1_0_73.jpeg...\n",
      "Copying gs://github-repo/rag/intro_multimodal_rag/images/med_gemini.pdf_image_1_1_75.jpeg...\n",
      "Copying gs://github-repo/rag/intro_multimodal_rag/images/med_gemini.pdf_image_1_2_77.jpeg...\n",
      "Copying gs://github-repo/rag/intro_multimodal_rag/images/med_gemini.pdf_image_1_3_79.jpeg...\n",
      "Copying gs://github-repo/rag/intro_multimodal_rag/images/med_gemini.pdf_image_1_4_81.jpeg...\n",
      "Copying gs://github-repo/rag/intro_multimodal_rag/images/med_gemini.pdf_image_1_5_83.jpeg...\n",
      "Copying gs://github-repo/rag/intro_multimodal_rag/images/med_gemini.pdf_image_1_6_84.jpeg...\n",
      "Copying gs://github-repo/rag/intro_multimodal_rag/images/med_gemini.pdf_image_21_0_681.jpeg...\n",
      "Copying gs://github-repo/rag/intro_multimodal_rag/images/med_gemini.pdf_image_23_0_726.jpeg...\n",
      "Copying gs://github-repo/rag/intro_multimodal_rag/images/med_gemini.pdf_image_1_7_86.jpeg...\n",
      "Copying gs://github-repo/rag/intro_multimodal_rag/images/med_gemini.pdf_image_23_1_727.jpeg...\n",
      "Copying gs://github-repo/rag/intro_multimodal_rag/images/med_gemini.pdf_image_23_2_728.jpeg...\n",
      "Copying gs://github-repo/rag/intro_multimodal_rag/images/med_gemini.pdf_image_24_0_752.jpeg...\n",
      "Copying gs://github-repo/rag/intro_multimodal_rag/images/med_gemini.pdf_image_24_2_780.jpeg...\n",
      "Copying gs://github-repo/rag/intro_multimodal_rag/images/med_gemini.pdf_image_24_1_754.jpeg...\n",
      "Copying gs://github-repo/rag/intro_multimodal_rag/images/med_gemini.pdf_image_24_3_782.jpeg...\n",
      "Copying gs://github-repo/rag/intro_multimodal_rag/images/med_gemini.pdf_image_24_4_783.jpeg...\n",
      "Copying gs://github-repo/rag/intro_multimodal_rag/images/med_gemini.pdf_image_25_1_813.jpeg...\n",
      "Copying gs://github-repo/rag/intro_multimodal_rag/images/med_gemini.pdf_image_25_2_815.jpeg...\n",
      "Copying gs://github-repo/rag/intro_multimodal_rag/images/med_gemini.pdf_image_25_0_812.jpeg...\n",
      "Copying gs://github-repo/rag/intro_multimodal_rag/images/med_gemini.pdf_image_25_4_819.jpeg...\n",
      "Copying gs://github-repo/rag/intro_multimodal_rag/images/med_gemini.pdf_image_25_3_817.jpeg...\n",
      "Copying gs://github-repo/rag/intro_multimodal_rag/images/med_gemini.pdf_image_25_5_820.jpeg...\n",
      "Copying gs://github-repo/rag/intro_multimodal_rag/images/med_gemini.pdf_image_26_0_849.jpeg...\n",
      "Copying gs://github-repo/rag/intro_multimodal_rag/images/med_gemini.pdf_image_26_1_851.jpeg...\n",
      "Copying gs://github-repo/rag/intro_multimodal_rag/images/med_gemini.pdf_image_26_2_853.jpeg...\n",
      "Copying gs://github-repo/rag/intro_multimodal_rag/images/med_gemini.pdf_image_26_3_855.jpeg...\n",
      "Copying gs://github-repo/rag/intro_multimodal_rag/images/med_gemini.pdf_image_27_10_903.jpeg...\n",
      "Copying gs://github-repo/rag/intro_multimodal_rag/images/med_gemini.pdf_image_27_0_890.jpeg...\n",
      "Copying gs://github-repo/rag/intro_multimodal_rag/images/med_gemini.pdf_image_27_12_907.jpeg...\n",
      "Copying gs://github-repo/rag/intro_multimodal_rag/images/med_gemini.pdf_image_27_13_909.jpeg...\n",
      "Copying gs://github-repo/rag/intro_multimodal_rag/images/med_gemini.pdf_image_27_14_910.jpeg...\n",
      "Copying gs://github-repo/rag/intro_multimodal_rag/images/med_gemini.pdf_image_27_15_911.jpeg...\n",
      "Copying gs://github-repo/rag/intro_multimodal_rag/images/med_gemini.pdf_image_27_16_912.jpeg...\n",
      "Copying gs://github-repo/rag/intro_multimodal_rag/images/med_gemini.pdf_image_27_11_905.jpeg...\n",
      "Copying gs://github-repo/rag/intro_multimodal_rag/images/med_gemini.pdf_image_27_17_913.jpeg...\n",
      "Copying gs://github-repo/rag/intro_multimodal_rag/images/med_gemini.pdf_image_27_18_914.jpeg...\n",
      "Copying gs://github-repo/rag/intro_multimodal_rag/images/med_gemini.pdf_image_27_1_891.jpeg...\n",
      "Copying gs://github-repo/rag/intro_multimodal_rag/images/med_gemini.pdf_image_27_2_892.jpeg...\n",
      "Copying gs://github-repo/rag/intro_multimodal_rag/images/med_gemini.pdf_image_27_3_893.jpeg...\n",
      "Copying gs://github-repo/rag/intro_multimodal_rag/images/med_gemini.pdf_image_27_5_895.jpeg...\n",
      "Copying gs://github-repo/rag/intro_multimodal_rag/images/med_gemini.pdf_image_27_6_896.jpeg...\n",
      "Copying gs://github-repo/rag/intro_multimodal_rag/images/med_gemini.pdf_image_27_4_894.jpeg...\n",
      "Copying gs://github-repo/rag/intro_multimodal_rag/images/med_gemini.pdf_image_27_7_897.jpeg...\n",
      "Copying gs://github-repo/rag/intro_multimodal_rag/images/med_gemini.pdf_image_27_8_899.jpeg...\n",
      "Copying gs://github-repo/rag/intro_multimodal_rag/images/med_gemini.pdf_image_27_9_901.jpeg...\n",
      "Copying gs://github-repo/rag/intro_multimodal_rag/images/med_gemini.pdf_image_55_0_1493.jpeg...\n",
      "Copying gs://github-repo/rag/intro_multimodal_rag/images/med_gemini.pdf_image_55_1_1494.jpeg...\n",
      "Copying gs://github-repo/rag/intro_multimodal_rag/images/med_gemini.pdf_image_55_2_1495.jpeg...\n",
      "Copying gs://github-repo/rag/intro_multimodal_rag/images/med_gemini.pdf_image_55_3_1496.jpeg...\n",
      "Copying gs://github-repo/rag/intro_multimodal_rag/images/med_gemini.pdf_image_55_4_1497.jpeg...\n",
      "Copying gs://github-repo/rag/intro_multimodal_rag/images/med_gemini.pdf_image_55_5_1498.jpeg...\n",
      "Copying gs://github-repo/rag/intro_multimodal_rag/images/med_gemini.pdf_image_55_6_1499.jpeg...\n",
      "Copying gs://github-repo/rag/intro_multimodal_rag/images/tactic_ai_paper.pdf_image_0_0_213.jpeg...\n",
      "Copying gs://github-repo/rag/intro_multimodal_rag/images/tactic_ai_paper.pdf_image_0_1_214.jpeg...\n",
      "Copying gs://github-repo/rag/intro_multimodal_rag/images/tactic_ai_paper.pdf_image_1_0_249.jpeg...\n",
      "Copying gs://github-repo/rag/intro_multimodal_rag/images/tactic_ai_paper.pdf_image_1_10_262.jpeg...\n",
      "Copying gs://github-repo/rag/intro_multimodal_rag/images/tactic_ai_paper.pdf_image_1_11_265.jpeg...\n",
      "Copying gs://github-repo/rag/intro_multimodal_rag/images/tactic_ai_paper.pdf_image_1_12_257.jpeg...\n",
      "Copying gs://github-repo/rag/intro_multimodal_rag/images/tactic_ai_paper.pdf_image_1_1_252.jpeg...\n",
      "Copying gs://github-repo/rag/intro_multimodal_rag/images/tactic_ai_paper.pdf_image_1_2_249.jpeg...\n",
      "Copying gs://github-repo/rag/intro_multimodal_rag/images/tactic_ai_paper.pdf_image_1_3_255.jpeg...\n",
      "Copying gs://github-repo/rag/intro_multimodal_rag/images/tactic_ai_paper.pdf_image_1_5_255.jpeg...\n",
      "Copying gs://github-repo/rag/intro_multimodal_rag/images/tactic_ai_paper.pdf_image_1_4_249.jpeg...\n",
      "Copying gs://github-repo/rag/intro_multimodal_rag/images/tactic_ai_paper.pdf_image_1_6_256.jpeg...\n",
      "Copying gs://github-repo/rag/intro_multimodal_rag/images/tactic_ai_paper.pdf_image_1_7_257.jpeg...\n",
      "Copying gs://github-repo/rag/intro_multimodal_rag/images/tactic_ai_paper.pdf_image_1_8_260.jpeg...\n",
      "Copying gs://github-repo/rag/intro_multimodal_rag/images/tactic_ai_paper.pdf_image_1_9_261.jpeg...\n",
      "Copying gs://github-repo/rag/intro_multimodal_rag/images/tactic_ai_paper.pdf_image_4_0_351.jpeg...\n",
      "Copying gs://github-repo/rag/intro_multimodal_rag/images/tactic_ai_paper.pdf_image_4_1_352.jpeg...\n",
      "Copying gs://github-repo/rag/intro_multimodal_rag/images/tactic_ai_paper.pdf_image_4_2_355.jpeg...\n",
      "Copying gs://github-repo/rag/intro_multimodal_rag/images/tactic_ai_paper.pdf_image_4_3_356.jpeg...\n",
      "Copying gs://github-repo/rag/intro_multimodal_rag/images/tactic_ai_paper.pdf_image_4_6_361.jpeg...\n",
      "Copying gs://github-repo/rag/intro_multimodal_rag/images/tactic_ai_paper.pdf_image_4_4_359.jpeg...\n",
      "Copying gs://github-repo/rag/intro_multimodal_rag/images/tactic_ai_paper.pdf_image_4_5_360.jpeg...\n",
      "Copying gs://github-repo/rag/intro_multimodal_rag/images/tactic_ai_paper.pdf_image_4_7_364.jpeg...\n",
      "Copying gs://github-repo/rag/intro_multimodal_rag/images/tactic_ai_paper.pdf_image_4_8_367.jpeg...\n",
      "Copying gs://github-repo/rag/intro_multimodal_rag/images/tactic_ai_paper.pdf_image_4_9_370.jpeg...\n",
      "Copying gs://github-repo/rag/intro_multimodal_rag/images/the-ethics-of-advanced-ai-assistants-2024-i.pdf_image_0_0_9367.jpeg...\n",
      "Copying gs://github-repo/rag/intro_multimodal_rag/images/the-ethics-of-advanced-ai-assistants-2024-i.pdf_image_25_0_58.jpeg...\n",
      "Copying gs://github-repo/rag/intro_multimodal_rag/images/the-ethics-of-advanced-ai-assistants-2024-i.pdf_image_25_2_53.jpeg...\n",
      "Copying gs://github-repo/rag/intro_multimodal_rag/images/the-ethics-of-advanced-ai-assistants-2024-i.pdf_image_25_1_50.jpeg...\n",
      "Copying gs://github-repo/rag/intro_multimodal_rag/images/the-ethics-of-advanced-ai-assistants-2024-i.pdf_image_25_3_54.jpeg...\n",
      "Copying gs://github-repo/rag/intro_multimodal_rag/images/the-ethics-of-advanced-ai-assistants-2024-i.pdf_image_25_4_55.jpeg...\n",
      "Copying gs://github-repo/rag/intro_multimodal_rag/images/the-ethics-of-advanced-ai-assistants-2024-i.pdf_image_25_5_56.jpeg...\n",
      "Copying gs://github-repo/rag/intro_multimodal_rag/images/the-ethics-of-advanced-ai-assistants-2024-i.pdf_image_25_6_57.jpeg...\n",
      "Copying gs://github-repo/rag/intro_multimodal_rag/tac_table_revenue.png...      \n",
      "Copying gs://github-repo/rag/intro_multimodal_rag/mrag_metadata.pkl...\n",
      "Copying gs://github-repo/rag/intro_multimodal_rag/temp/consumer-checkpoint-december-2023.pdf_selected_pages_1_2024-05-24-12:11:36.344.pdf...\n",
      "Copying gs://github-repo/rag/intro_multimodal_rag/temp/consumer-checkpoint-december-2023.pdf_selected_pages_1_2024-05-24-12:19:02.226.pdf...\n",
      "Copying gs://github-repo/rag/intro_multimodal_rag/temp/consumer-checkpoint-december-2023.pdf_selected_pages_1_2024-05-24-12:13:57.983.pdf...\n",
      "Copying gs://github-repo/rag/intro_multimodal_rag/temp/consumer-checkpoint-december-2023.pdf_selected_pages_1_2024-05-24-12:16:00.276.pdf...\n",
      "Copying gs://github-repo/rag/intro_multimodal_rag/temp/consumer-checkpoint-december-2023.pdf_selected_pages_1_2024-05-24-12:23:03.017.pdf...\n",
      "Copying gs://github-repo/rag/intro_multimodal_rag/temp/consumer-checkpoint-december-2023.pdf_selected_pages_1_2024-05-24-12:24:07.254.pdf...\n",
      "Copying gs://github-repo/rag/intro_multimodal_rag/temp/consumer-checkpoint-december-2023.pdf_selected_pages_1_2024-05-24-12:38:39.754.pdf...\n",
      "Copying gs://github-repo/rag/intro_multimodal_rag/temp/consumer-checkpoint-december-2023.pdf_selected_pages_1_2024-05-24-12:37:44.947.pdf...\n",
      "Copying gs://github-repo/rag/intro_multimodal_rag/temp/consumer-checkpoint-december-2023.pdf_selected_pages_2_2024-05-24-12:13:56.767.pdf...\n",
      "Copying gs://github-repo/rag/intro_multimodal_rag/temp/consumer-checkpoint-december-2023.pdf_selected_pages_2_2024-05-24-12:15:59.034.pdf...\n",
      "Copying gs://github-repo/rag/intro_multimodal_rag/temp/consumer-checkpoint-december-2023.pdf_selected_pages_2_2024-05-24-12:11:35.193.pdf...\n",
      "Copying gs://github-repo/rag/intro_multimodal_rag/temp/consumer-checkpoint-december-2023.pdf_selected_pages_2_2024-05-24-12:19:00.984.pdf...\n",
      "Copying gs://github-repo/rag/intro_multimodal_rag/temp/consumer-checkpoint-december-2023.pdf_selected_pages_2_2024-05-24-12:23:01.976.pdf...\n",
      "Copying gs://github-repo/rag/intro_multimodal_rag/temp/consumer-checkpoint-december-2023.pdf_selected_pages_2_2024-05-24-12:22:22.633.pdf...\n",
      "Copying gs://github-repo/rag/intro_multimodal_rag/temp/consumer-checkpoint-december-2023.pdf_selected_pages_2_2024-05-24-12:24:06.219.pdf...\n",
      "Copying gs://github-repo/rag/intro_multimodal_rag/temp/consumer-checkpoint-december-2023.pdf_selected_pages_2_2024-05-24-12:36:32.622.pdf...\n",
      "Copying gs://github-repo/rag/intro_multimodal_rag/temp/consumer-checkpoint-december-2023.pdf_selected_pages_2_2024-05-24-12:37:43.740.pdf...\n",
      "Copying gs://github-repo/rag/intro_multimodal_rag/temp/consumer-checkpoint-december-2023.pdf_selected_pages_2_2024-05-24-12:38:38.647.pdf...\n",
      "Copying gs://github-repo/rag/intro_multimodal_rag/temp/consumer-checkpoint-december-2023.pdf_selected_pages_3_2024-05-24-12:11:35.791.pdf...\n",
      "Copying gs://github-repo/rag/intro_multimodal_rag/temp/consumer-checkpoint-december-2023.pdf_selected_pages_3_2024-05-24-12:13:57.356.pdf...\n",
      "Copying gs://github-repo/rag/intro_multimodal_rag/temp/consumer-checkpoint-december-2023.pdf_selected_pages_3_2024-05-24-12:15:59.583.pdf...\n",
      "Copying gs://github-repo/rag/intro_multimodal_rag/temp/consumer-checkpoint-december-2023.pdf_selected_pages_3_2024-05-24-12:19:01.508.pdf...\n",
      "Copying gs://github-repo/rag/intro_multimodal_rag/temp/consumer-checkpoint-december-2023.pdf_selected_pages_3_2024-05-24-12:23:02.490.pdf...\n",
      "Copying gs://github-repo/rag/intro_multimodal_rag/temp/consumer-checkpoint-december-2023.pdf_selected_pages_3_2024-05-24-12:24:06.736.pdf...\n",
      "Copying gs://github-repo/rag/intro_multimodal_rag/temp/consumer-checkpoint-december-2023.pdf_selected_pages_3_2024-05-24-12:37:44.314.pdf...\n",
      "Copying gs://github-repo/rag/intro_multimodal_rag/temp/consumer-checkpoint-december-2023.pdf_selected_pages_3_2024-05-24-12:38:39.192.pdf...\n",
      "Copying gs://github-repo/rag/intro_multimodal_rag/temp/consumer-checkpoint-december-2023.pdf_selected_pages_4_2024-05-24-12:11:39.177.pdf...\n",
      "Copying gs://github-repo/rag/intro_multimodal_rag/temp/consumer-checkpoint-december-2023.pdf_selected_pages_4_2024-05-24-12:14:01.391.pdf...\n",
      "Copying gs://github-repo/rag/intro_multimodal_rag/temp/consumer-checkpoint-december-2023.pdf_selected_pages_4_2024-05-24-12:16:03.493.pdf...\n",
      "Copying gs://github-repo/rag/intro_multimodal_rag/temp/consumer-checkpoint-december-2023.pdf_selected_pages_4_2024-05-24-12:19:06.162.pdf...\n",
      "Copying gs://github-repo/rag/intro_multimodal_rag/temp/consumer-checkpoint-december-2023.pdf_selected_pages_4_2024-05-24-12:21:49.312.pdf...\n",
      "Copying gs://github-repo/rag/intro_multimodal_rag/temp/consumer-checkpoint-december-2023.pdf_selected_pages_4_2024-05-24-12:23:05.663.pdf...\n",
      "Copying gs://github-repo/rag/intro_multimodal_rag/temp/consumer-checkpoint-december-2023.pdf_selected_pages_4_2024-05-24-12:34:57.750.pdf...\n",
      "Copying gs://github-repo/rag/intro_multimodal_rag/temp/consumer-checkpoint-december-2023.pdf_selected_pages_4_2024-05-24-12:37:47.776.pdf...\n",
      "Copying gs://github-repo/rag/intro_multimodal_rag/temp/consumer-checkpoint-december-2023.pdf_selected_pages_4_2024-05-24-12:24:10.197.pdf...\n",
      "Copying gs://github-repo/rag/intro_multimodal_rag/temp/consumer-checkpoint-december-2023.pdf_selected_pages_5_2024-05-24-12:22:23.129.pdf...\n",
      "Copying gs://github-repo/rag/intro_multimodal_rag/temp/consumer-checkpoint-december-2023.pdf_selected_pages_5_2024-05-24-12:36:33.219.pdf...\n",
      "Copying gs://github-repo/rag/intro_multimodal_rag/temp/consumer-checkpoint-december-2023.pdf_selected_pages_6_2024-05-24-12:11:39.672.pdf...\n",
      "Copying gs://github-repo/rag/intro_multimodal_rag/temp/consumer-checkpoint-december-2023.pdf_selected_pages_6_2024-05-24-12:14:01.937.pdf...\n",
      "Copying gs://github-repo/rag/intro_multimodal_rag/temp/consumer-checkpoint-december-2023.pdf_selected_pages_6_2024-05-24-12:16:03.983.pdf...\n",
      "Copying gs://github-repo/rag/intro_multimodal_rag/temp/consumer-checkpoint-december-2023.pdf_selected_pages_6_2024-05-24-12:19:06.731.pdf...\n",
      "Copying gs://github-repo/rag/intro_multimodal_rag/temp/consumer-checkpoint-december-2023.pdf_selected_pages_6_2024-05-24-12:23:06.149.pdf...\n",
      "Copying gs://github-repo/rag/intro_multimodal_rag/temp/consumer-checkpoint-december-2023.pdf_selected_pages_6_2024-05-24-12:24:10.671.pdf...\n",
      "Copying gs://github-repo/rag/intro_multimodal_rag/temp/consumer-checkpoint-december-2023.pdf_selected_pages_6_2024-05-24-12:37:48.267.pdf...\n",
      "Copying gs://github-repo/rag/intro_multimodal_rag/temp/consumer-checkpoint-february-2024.pdf_selected_pages_1_2024-05-24-12:22:18.894.pdf...\n",
      "Copying gs://github-repo/rag/intro_multimodal_rag/temp/consumer-checkpoint-february-2024.pdf_selected_pages_1_2024-05-24-12:36:28.865.pdf...\n",
      "Copying gs://github-repo/rag/intro_multimodal_rag/temp/consumer-checkpoint-february-2024.pdf_selected_pages_4_2024-05-24-12:21:46.098.pdf...\n",
      "Copying gs://github-repo/rag/intro_multimodal_rag/temp/consumer-checkpoint-february-2024.pdf_selected_pages_4_2024-05-24-12:34:54.168.pdf...\n",
      "Copying gs://github-repo/rag/intro_multimodal_rag/temp/consumer-checkpoint-february-2024.pdf_selected_pages_5_2024-05-24-12:22:19.898.pdf...\n",
      "Copying gs://github-repo/rag/intro_multimodal_rag/temp/consumer-checkpoint-february-2024.pdf_selected_pages_5_2024-05-24-12:36:30.389.pdf...\n",
      "Copying gs://github-repo/rag/intro_multimodal_rag/temp/consumer-checkpoint-february-2024.pdf_selected_pages_6_2024-05-24-12:22:23.627.pdf...\n",
      "Copying gs://github-repo/rag/intro_multimodal_rag/temp/consumer-checkpoint-february-2024.pdf_selected_pages_6_2024-05-24-12:36:33.816.pdf...\n",
      "Copying gs://github-repo/rag/intro_multimodal_rag/temp/consumer-checkpoint-february-2024.pdf_selected_pages_7_2024-05-24-12:22:21.465.pdf...\n",
      "Copying gs://github-repo/rag/intro_multimodal_rag/temp/consumer-checkpoint-february-2024.pdf_selected_pages_7_2024-05-24-12:36:31.402.pdf...\n",
      "Copying gs://github-repo/rag/intro_multimodal_rag/temp/consumer-checkpoint-january-2024.pdf_selected_pages_1_2024-05-24-12:11:37.526.pdf...\n",
      "Copying gs://github-repo/rag/intro_multimodal_rag/temp/consumer-checkpoint-january-2024.pdf_selected_pages_1_2024-05-24-12:13:59.282.pdf...\n",
      "Copying gs://github-repo/rag/intro_multimodal_rag/temp/consumer-checkpoint-january-2024.pdf_selected_pages_1_2024-05-24-12:16:01.454.pdf...\n",
      "Copying gs://github-repo/rag/intro_multimodal_rag/temp/consumer-checkpoint-january-2024.pdf_selected_pages_1_2024-05-24-12:22:24.146.pdf...\n",
      "Copying gs://github-repo/rag/intro_multimodal_rag/temp/consumer-checkpoint-january-2024.pdf_selected_pages_1_2024-05-24-12:19:04.346.pdf...\n",
      "Copying gs://github-repo/rag/intro_multimodal_rag/temp/consumer-checkpoint-january-2024.pdf_selected_pages_1_2024-05-24-12:23:04.055.pdf...\n",
      "Copying gs://github-repo/rag/intro_multimodal_rag/temp/consumer-checkpoint-january-2024.pdf_selected_pages_1_2024-05-24-12:24:08.319.pdf...\n",
      "Copying gs://github-repo/rag/intro_multimodal_rag/temp/consumer-checkpoint-january-2024.pdf_selected_pages_1_2024-05-24-12:36:34.349.pdf...\n",
      "Copying gs://github-repo/rag/intro_multimodal_rag/temp/consumer-checkpoint-january-2024.pdf_selected_pages_1_2024-05-24-12:37:46.184.pdf...\n",
      "Copying gs://github-repo/rag/intro_multimodal_rag/temp/consumer-checkpoint-january-2024.pdf_selected_pages_1_2024-05-24-12:38:40.926.pdf...\n",
      "Copying gs://github-repo/rag/intro_multimodal_rag/temp/consumer-checkpoint-january-2024.pdf_selected_pages_2_2024-05-24-12:11:38.059.pdf...\n",
      "Copying gs://github-repo/rag/intro_multimodal_rag/temp/consumer-checkpoint-january-2024.pdf_selected_pages_2_2024-05-24-12:14:00.075.pdf...\n",
      "Copying gs://github-repo/rag/intro_multimodal_rag/temp/consumer-checkpoint-january-2024.pdf_selected_pages_2_2024-05-24-12:16:02.082.pdf...\n",
      "Copying gs://github-repo/rag/intro_multimodal_rag/temp/consumer-checkpoint-january-2024.pdf_selected_pages_2_2024-05-24-12:19:04.909.pdf...\n",
      "Copying gs://github-repo/rag/intro_multimodal_rag/temp/consumer-checkpoint-january-2024.pdf_selected_pages_2_2024-05-24-12:23:04.581.pdf...\n",
      "Copying gs://github-repo/rag/intro_multimodal_rag/temp/consumer-checkpoint-january-2024.pdf_selected_pages_2_2024-05-24-12:24:08.873.pdf...\n",
      "Copying gs://github-repo/rag/intro_multimodal_rag/temp/consumer-checkpoint-january-2024.pdf_selected_pages_2_2024-05-24-12:37:46.705.pdf...\n",
      "Copying gs://github-repo/rag/intro_multimodal_rag/temp/consumer-checkpoint-january-2024.pdf_selected_pages_2_2024-05-24-12:38:41.478.pdf...\n",
      "Copying gs://github-repo/rag/intro_multimodal_rag/temp/consumer-checkpoint-january-2024.pdf_selected_pages_3_2024-05-24-12:14:03.010.pdf...\n",
      "Copying gs://github-repo/rag/intro_multimodal_rag/temp/consumer-checkpoint-january-2024.pdf_selected_pages_3_2024-05-24-12:11:40.751.pdf...\n",
      "Copying gs://github-repo/rag/intro_multimodal_rag/temp/consumer-checkpoint-january-2024.pdf_selected_pages_3_2024-05-24-12:16:05.060.pdf...\n",
      "Copying gs://github-repo/rag/intro_multimodal_rag/temp/consumer-checkpoint-january-2024.pdf_selected_pages_3_2024-05-24-12:19:07.919.pdf...\n",
      "Copying gs://github-repo/rag/intro_multimodal_rag/temp/consumer-checkpoint-january-2024.pdf_selected_pages_3_2024-05-24-12:23:07.263.pdf...\n",
      "Copying gs://github-repo/rag/intro_multimodal_rag/temp/consumer-checkpoint-january-2024.pdf_selected_pages_3_2024-05-24-12:24:11.774.pdf...\n",
      "Copying gs://github-repo/rag/intro_multimodal_rag/temp/consumer-checkpoint-january-2024.pdf_selected_pages_3_2024-05-24-12:37:49.349.pdf...\n",
      "Copying gs://github-repo/rag/intro_multimodal_rag/temp/consumer-checkpoint-january-2024.pdf_selected_pages_4_2024-05-24-12:11:36.954.pdf...\n",
      "Copying gs://github-repo/rag/intro_multimodal_rag/temp/consumer-checkpoint-january-2024.pdf_selected_pages_4_2024-05-24-12:13:58.595.pdf...\n",
      "Copying gs://github-repo/rag/intro_multimodal_rag/temp/consumer-checkpoint-january-2024.pdf_selected_pages_4_2024-05-24-12:16:00.840.pdf...\n",
      "Copying gs://github-repo/rag/intro_multimodal_rag/temp/consumer-checkpoint-january-2024.pdf_selected_pages_4_2024-05-24-12:19:02.774.pdf...\n",
      "Copying gs://github-repo/rag/intro_multimodal_rag/temp/consumer-checkpoint-january-2024.pdf_selected_pages_4_2024-05-24-12:23:03.524.pdf...\n",
      "Copying gs://github-repo/rag/intro_multimodal_rag/temp/consumer-checkpoint-january-2024.pdf_selected_pages_4_2024-05-24-12:24:07.782.pdf...\n",
      "Copying gs://github-repo/rag/intro_multimodal_rag/temp/consumer-checkpoint-january-2024.pdf_selected_pages_4_2024-05-24-12:37:45.571.pdf...\n",
      "Copying gs://github-repo/rag/intro_multimodal_rag/temp/consumer-checkpoint-january-2024.pdf_selected_pages_4_2024-05-24-12:38:40.317.pdf...\n",
      "Copying gs://github-repo/rag/intro_multimodal_rag/temp/consumer-checkpoint-january-2024.pdf_selected_pages_6_2024-05-24-12:36:32.005.pdf...\n",
      "Copying gs://github-repo/rag/intro_multimodal_rag/temp/consumer-checkpoint-january-2024.pdf_selected_pages_6_2024-05-24-12:22:22.075.pdf...\n",
      "Copying gs://github-repo/rag/intro_multimodal_rag/temp/consumer-checkpoint-march-2024.pdf_selected_pages_1_2024-05-24-12:11:41.319.pdf...\n",
      "Copying gs://github-repo/rag/intro_multimodal_rag/temp/consumer-checkpoint-march-2024.pdf_selected_pages_1_2024-05-24-12:14:03.540.pdf...\n",
      "Copying gs://github-repo/rag/intro_multimodal_rag/temp/consumer-checkpoint-march-2024.pdf_selected_pages_1_2024-05-24-12:16:05.597.pdf...\n",
      "Copying gs://github-repo/rag/intro_multimodal_rag/temp/consumer-checkpoint-march-2024.pdf_selected_pages_1_2024-05-24-12:21:50.032.pdf...\n",
      "Copying gs://github-repo/rag/intro_multimodal_rag/temp/consumer-checkpoint-march-2024.pdf_selected_pages_1_2024-05-24-12:19:08.417.pdf...\n",
      "Copying gs://github-repo/rag/intro_multimodal_rag/temp/consumer-checkpoint-march-2024.pdf_selected_pages_1_2024-05-24-12:22:24.662.pdf...\n",
      "Copying gs://github-repo/rag/intro_multimodal_rag/temp/consumer-checkpoint-march-2024.pdf_selected_pages_1_2024-05-24-12:23:07.782.pdf...\n",
      "Copying gs://github-repo/rag/intro_multimodal_rag/temp/consumer-checkpoint-march-2024.pdf_selected_pages_1_2024-05-24-12:24:12.425.pdf...\n",
      "Copying gs://github-repo/rag/intro_multimodal_rag/temp/consumer-checkpoint-march-2024.pdf_selected_pages_1_2024-05-24-12:34:58.272.pdf...\n",
      "Copying gs://github-repo/rag/intro_multimodal_rag/temp/consumer-checkpoint-march-2024.pdf_selected_pages_1_2024-05-24-12:36:34.853.pdf...\n",
      "Copying gs://github-repo/rag/intro_multimodal_rag/temp/consumer-checkpoint-march-2024.pdf_selected_pages_1_2024-05-24-12:37:50.093.pdf...\n",
      "Copying gs://github-repo/rag/intro_multimodal_rag/temp/consumer-checkpoint-march-2024.pdf_selected_pages_2_2024-05-24-12:21:52.257.pdf...\n",
      "Copying gs://github-repo/rag/intro_multimodal_rag/temp/consumer-checkpoint-march-2024.pdf_selected_pages_3_2024-05-24-12:21:48.779.pdf...\n",
      "Copying gs://github-repo/rag/intro_multimodal_rag/temp/consumer-checkpoint-march-2024.pdf_selected_pages_2_2024-05-24-12:35:00.559.pdf...\n",
      "Copying gs://github-repo/rag/intro_multimodal_rag/temp/consumer-checkpoint-march-2024.pdf_selected_pages_3_2024-05-24-12:34:57.204.pdf...\n",
      "Copying gs://github-repo/rag/intro_multimodal_rag/temp/consumer-checkpoint-march-2024.pdf_selected_pages_4_2024-05-24-12:21:50.578.pdf...\n",
      "Copying gs://github-repo/rag/intro_multimodal_rag/temp/consumer-checkpoint-march-2024.pdf_selected_pages_4_2024-05-24-12:34:58.806.pdf...\n",
      "Copying gs://github-repo/rag/intro_multimodal_rag/temp/consumer-checkpoint-november-2023.pdf_selected_pages_1_2024-05-24-12:22:19.420.pdf...\n",
      "Copying gs://github-repo/rag/intro_multimodal_rag/temp/consumer-checkpoint-november-2023.pdf_selected_pages_1_2024-05-24-12:36:29.433.pdf...\n",
      "Copying gs://github-repo/rag/intro_multimodal_rag/temp/consumer-checkpoint-november-2023.pdf_selected_pages_2_2024-05-24-12:11:40.226.pdf...\n",
      "Copying gs://github-repo/rag/intro_multimodal_rag/temp/consumer-checkpoint-november-2023.pdf_selected_pages_2_2024-05-24-12:14:02.476.pdf...\n",
      "Copying gs://github-repo/rag/intro_multimodal_rag/temp/consumer-checkpoint-november-2023.pdf_selected_pages_2_2024-05-24-12:16:04.552.pdf...\n",
      "Copying gs://github-repo/rag/intro_multimodal_rag/temp/consumer-checkpoint-november-2023.pdf_selected_pages_2_2024-05-24-12:19:07.376.pdf...\n",
      "Copying gs://github-repo/rag/intro_multimodal_rag/temp/consumer-checkpoint-november-2023.pdf_selected_pages_2_2024-05-24-12:21:51.202.pdf...\n",
      "Copying gs://github-repo/rag/intro_multimodal_rag/temp/consumer-checkpoint-november-2023.pdf_selected_pages_2_2024-05-24-12:24:11.205.pdf...\n",
      "Copying gs://github-repo/rag/intro_multimodal_rag/temp/consumer-checkpoint-november-2023.pdf_selected_pages_2_2024-05-24-12:34:59.380.pdf...\n",
      "Copying gs://github-repo/rag/intro_multimodal_rag/temp/consumer-checkpoint-november-2023.pdf_selected_pages_2_2024-05-24-12:23:06.669.pdf...\n",
      "Copying gs://github-repo/rag/intro_multimodal_rag/temp/consumer-checkpoint-november-2023.pdf_selected_pages_2_2024-05-24-12:37:48.833.pdf...\n",
      "Copying gs://github-repo/rag/intro_multimodal_rag/temp/consumer-checkpoint-november-2023.pdf_selected_pages_3_2024-05-24-12:21:47.286.pdf...\n",
      "Copying gs://github-repo/rag/intro_multimodal_rag/temp/consumer-checkpoint-november-2023.pdf_selected_pages_3_2024-05-24-12:34:55.377.pdf...\n",
      "Copying gs://github-repo/rag/intro_multimodal_rag/temp/consumer-checkpoint-november-2023.pdf_selected_pages_4_2024-05-24-12:14:00.860.pdf...\n",
      "Copying gs://github-repo/rag/intro_multimodal_rag/temp/consumer-checkpoint-november-2023.pdf_selected_pages_4_2024-05-24-12:11:38.651.pdf...\n",
      "Copying gs://github-repo/rag/intro_multimodal_rag/temp/consumer-checkpoint-november-2023.pdf_selected_pages_4_2024-05-24-12:16:02.871.pdf...\n",
      "Copying gs://github-repo/rag/intro_multimodal_rag/temp/consumer-checkpoint-november-2023.pdf_selected_pages_4_2024-05-24-12:19:05.584.pdf...\n",
      "Copying gs://github-repo/rag/intro_multimodal_rag/temp/consumer-checkpoint-november-2023.pdf_selected_pages_4_2024-05-24-12:21:46.631.pdf...\n",
      "Copying gs://github-repo/rag/intro_multimodal_rag/temp/consumer-checkpoint-november-2023.pdf_selected_pages_4_2024-05-24-12:23:05.145.pdf...\n",
      "Copying gs://github-repo/rag/intro_multimodal_rag/temp/consumer-checkpoint-november-2023.pdf_selected_pages_4_2024-05-24-12:22:25.177.pdf...\n",
      "Copying gs://github-repo/rag/intro_multimodal_rag/temp/consumer-checkpoint-november-2023.pdf_selected_pages_4_2024-05-24-12:24:09.575.pdf...\n",
      "Copying gs://github-repo/rag/intro_multimodal_rag/temp/consumer-checkpoint-november-2023.pdf_selected_pages_4_2024-05-24-12:34:54.748.pdf...\n",
      "Copying gs://github-repo/rag/intro_multimodal_rag/temp/consumer-checkpoint-november-2023.pdf_selected_pages_4_2024-05-24-12:36:35.437.pdf...\n",
      "Copying gs://github-repo/rag/intro_multimodal_rag/temp/consumer-checkpoint-november-2023.pdf_selected_pages_4_2024-05-24-12:37:47.261.pdf...\n",
      "Copying gs://github-repo/rag/intro_multimodal_rag/temp/consumer-checkpoint-november-2023.pdf_selected_pages_4_2024-05-24-12:38:42.061.pdf...\n",
      "Copying gs://github-repo/rag/intro_multimodal_rag/temp/consumer-checkpoint-november-2023.pdf_selected_pages_5_2024-05-24-12:35:01.082.pdf...\n",
      "Copying gs://github-repo/rag/intro_multimodal_rag/temp/consumer-checkpoint-november-2023.pdf_selected_pages_5_2024-05-24-12:22:20.542.pdf...\n",
      "Copying gs://github-repo/rag/intro_multimodal_rag/temp/consumer-checkpoint-november-2023.pdf_selected_pages_5_2024-05-24-12:21:52.748.pdf...\n",
      "Copying gs://github-repo/rag/intro_multimodal_rag/temp/consumer-checkpoint-november-2023.pdf_selected_pages_5_2024-05-24-12:36:30.916.pdf...\n",
      "Copying gs://github-repo/rag/intro_multimodal_rag/temp/small-business-checkpoint-december-2023.pdf_selected_pages_3_2024-05-24-12:21:51.729.pdf...\n",
      "Copying gs://github-repo/rag/intro_multimodal_rag/temp/small-business-checkpoint-december-2023.pdf_selected_pages_3_2024-05-24-12:35:00.003.pdf...\n",
      "Copying gs://github-repo/rag/intro_multimodal_rag/temp/small-business-checkpoint-november-2023.pdf_selected_pages_1_2024-05-24-12:21:47.770.pdf...\n",
      "Copying gs://github-repo/rag/intro_multimodal_rag/temp/small-business-checkpoint-november-2023.pdf_selected_pages_1_2024-05-24-12:34:55.954.pdf...\n",
      "Copying gs://github-repo/rag/intro_multimodal_rag/temp/small-business-checkpoint-november-2023.pdf_selected_pages_2_2024-05-24-12:34:56.598.pdf...\n",
      "Copying gs://github-repo/rag/intro_multimodal_rag/temp/small-business-checkpoint-november-2023.pdf_selected_pages_2_2024-05-24-12:21:48.269.pdf...\n",
      "Copying gs://github-repo/rag/intro_multimodal_rag/test_bank_data/consumer-checkpoint-december-2023.pdf...\n",
      "Copying gs://github-repo/rag/intro_multimodal_rag/test_bank_data/consumer-checkpoint-february-2024.pdf...\n",
      "Copying gs://github-repo/rag/intro_multimodal_rag/test_bank_data/consumer-checkpoint-january-2024.pdf...\n",
      "Copying gs://github-repo/rag/intro_multimodal_rag/test_bank_data/consumer-checkpoint-march-2024.pdf...\n",
      "Copying gs://github-repo/rag/intro_multimodal_rag/test_bank_data/consumer-checkpoint-november-2023.pdf...\n",
      "Copying gs://github-repo/rag/intro_multimodal_rag/test_bank_data/small-business-checkpoint-december-2023.pdf...\n",
      "Copying gs://github-repo/rag/intro_multimodal_rag/test_bank_data/small-business-checkpoint-february-2024.pdf...\n",
      "Copying gs://github-repo/rag/intro_multimodal_rag/test_bank_data/small-business-checkpoint-january-2024.pdf...\n",
      "Copying gs://github-repo/rag/intro_multimodal_rag/test_bank_data/small-business-checkpoint-march-2024.pdf...\n",
      "Copying gs://github-repo/rag/intro_multimodal_rag/test_bank_data/small-business-checkpoint-november-2023.pdf...\n",
      "Copying gs://github-repo/rag/intro_multimodal_rag/utils/multimodal_qa_with_rag_utils.py...\n",
      "\\ [366/366 files][115.8 MiB/115.8 MiB] 100% Done   2.4 MiB/s ETA 00:00:00       \n",
      "Operation completed over 366 objects/115.8 MiB.                                  \n",
      "Download completed\n"
     ]
    }
   ],
   "source": [
    "# download documents and images used in this lab\n",
    "!gsutil -m rsync -r gs://github-repo/rag/intro_multimodal_rag .\n",
    "print(\"Download completed\")"
   ]
  },
  {
   "cell_type": "code",
   "execution_count": 6,
   "id": "973334d7-5a52-43ac-a171-ad4cb01f5a0c",
   "metadata": {
    "tags": []
   },
   "outputs": [],
   "source": [
    "from utils.intro_multimodal_rag_utils import get_document_metadata"
   ]
  },
  {
   "cell_type": "code",
   "execution_count": 39,
   "id": "3d82018f-d83d-4707-84d3-183c148be327",
   "metadata": {
    "tags": []
   },
   "outputs": [
    {
     "ename": "TypeError",
     "evalue": "unsupported operand type(s) for +: 'GenerativeModel' and 'str'",
     "output_type": "error",
     "traceback": [
      "\u001b[0;31m---------------------------------------------------------------------------\u001b[0m",
      "\u001b[0;31mTypeError\u001b[0m                                 Traceback (most recent call last)",
      "Cell \u001b[0;32mIn[39], line 11\u001b[0m\n\u001b[1;32m      5\u001b[0m image_description_prompt \u001b[38;5;241m=\u001b[39m \u001b[38;5;124m\"\"\"\u001b[39m\u001b[38;5;124mExplain what is going on in the image.\u001b[39m\n\u001b[1;32m      6\u001b[0m \u001b[38;5;124mIf it\u001b[39m\u001b[38;5;124m'\u001b[39m\u001b[38;5;124ms a table, extract all elements of the table.\u001b[39m\n\u001b[1;32m      7\u001b[0m \u001b[38;5;124mIf it\u001b[39m\u001b[38;5;124m'\u001b[39m\u001b[38;5;124ms a graph, explain the findings in the graph.\u001b[39m\n\u001b[1;32m      8\u001b[0m \u001b[38;5;124mDo not include any numbers that are not mentioned in the image:\u001b[39m\u001b[38;5;124m\"\"\"\u001b[39m\n\u001b[1;32m     10\u001b[0m \u001b[38;5;66;03m# Extract text and image metadata from the PDF document\u001b[39;00m\n\u001b[0;32m---> 11\u001b[0m text_metadata_df \u001b[38;5;241m=\u001b[39m \u001b[43mget_document_metadata\u001b[49m\u001b[43m(\u001b[49m\n\u001b[1;32m     12\u001b[0m \u001b[43m    \u001b[49m\u001b[43mPROJECT_ID\u001b[49m\u001b[43m,\u001b[49m\n\u001b[1;32m     13\u001b[0m \u001b[43m    \u001b[49m\u001b[43mmodel\u001b[49m\u001b[43m,\u001b[49m\n\u001b[1;32m     14\u001b[0m \u001b[43m    \u001b[49m\u001b[43mpdf_path\u001b[49m\u001b[43m,\u001b[49m\n\u001b[1;32m     15\u001b[0m \u001b[43m   \u001b[49m\u001b[38;5;66;43;03m# image_save_dir=\"https://2d00c17c7b0cb103-dot-us-central1.notebooks.googleusercontent.com/lab/tree/images\",\u001b[39;49;00m\n\u001b[1;32m     16\u001b[0m \u001b[43m   \u001b[49m\u001b[43mimage_description_prompt\u001b[49m\u001b[38;5;241;43m=\u001b[39;49m\u001b[43mimage_description_prompt\u001b[49m\u001b[43m,\u001b[49m\n\u001b[1;32m     17\u001b[0m \u001b[43m    \u001b[49m\u001b[43membedding_size\u001b[49m\u001b[38;5;241;43m=\u001b[39;49m\u001b[38;5;241;43m1408\u001b[39;49m\u001b[43m,\u001b[49m\n\u001b[1;32m     18\u001b[0m \u001b[43m \u001b[49m\u001b[38;5;66;43;03m#   text_emb_text_limit=1000,  # Set text embedding input text limit to 1000 char\u001b[39;49;00m\n\u001b[1;32m     19\u001b[0m \u001b[43m)\u001b[49m\n\u001b[1;32m     21\u001b[0m image_metadata_df \u001b[38;5;241m=\u001b[39m get_document_metadata(\n\u001b[1;32m     22\u001b[0m     PROJECT_ID,\n\u001b[1;32m     23\u001b[0m     model,\n\u001b[0;32m   (...)\u001b[0m\n\u001b[1;32m     28\u001b[0m    \u001b[38;5;66;03m# text_emb_text_limit=1000,  # Set text embedding input text limit to 1000 char\u001b[39;00m\n\u001b[1;32m     29\u001b[0m )\n\u001b[1;32m     32\u001b[0m \u001b[38;5;28mprint\u001b[39m(\u001b[38;5;124m\"\u001b[39m\u001b[38;5;124m--- Completed processing. ---\u001b[39m\u001b[38;5;124m\"\u001b[39m)\n",
      "File \u001b[0;32m/home/jupyter/utils/intro_multimodal_rag_utils.py:498\u001b[0m, in \u001b[0;36mget_document_metadata\u001b[0;34m(generative_multimodal_model, pdf_folder_path, image_save_dir, image_description_prompt, embedding_size, generation_config, safety_settings, add_sleep_after_page, sleep_time_after_page)\u001b[0m\n\u001b[1;32m    480\u001b[0m \u001b[38;5;250m\u001b[39m\u001b[38;5;124;03m\"\"\"\u001b[39;00m\n\u001b[1;32m    481\u001b[0m \u001b[38;5;124;03mThis function takes a PDF path, an image save directory, an image description prompt, an embedding size, and a text embedding text limit as input.\u001b[39;00m\n\u001b[1;32m    482\u001b[0m \n\u001b[0;32m   (...)\u001b[0m\n\u001b[1;32m    493\u001b[0m \u001b[38;5;124;03m        * Another DataFrame containing the extracted image metadata for each image in the PDF, including the image path, image description, image embeddings (with and without context), and image description text embedding.\u001b[39;00m\n\u001b[1;32m    494\u001b[0m \u001b[38;5;124;03m\"\"\"\u001b[39;00m\n\u001b[1;32m    496\u001b[0m text_metadata_df_final, image_metadata_df_final \u001b[38;5;241m=\u001b[39m pd\u001b[38;5;241m.\u001b[39mDataFrame(), pd\u001b[38;5;241m.\u001b[39mDataFrame()\n\u001b[0;32m--> 498\u001b[0m \u001b[38;5;28;01mfor\u001b[39;00m pdf_path \u001b[38;5;129;01min\u001b[39;00m glob\u001b[38;5;241m.\u001b[39mglob(\u001b[43mpdf_folder_path\u001b[49m\u001b[43m \u001b[49m\u001b[38;5;241;43m+\u001b[39;49m\u001b[43m \u001b[49m\u001b[38;5;124;43m\"\u001b[39;49m\u001b[38;5;124;43m/*.pdf\u001b[39;49m\u001b[38;5;124;43m\"\u001b[39;49m):\n\u001b[1;32m    499\u001b[0m     \u001b[38;5;28mprint\u001b[39m(\n\u001b[1;32m    500\u001b[0m         \u001b[38;5;124m\"\u001b[39m\u001b[38;5;130;01m\\n\u001b[39;00m\u001b[38;5;130;01m\\n\u001b[39;00m\u001b[38;5;124m\"\u001b[39m,\n\u001b[1;32m    501\u001b[0m         \u001b[38;5;124m\"\u001b[39m\u001b[38;5;124mProcessing the file: ---------------------------------\u001b[39m\u001b[38;5;124m\"\u001b[39m,\n\u001b[1;32m    502\u001b[0m         pdf_path,\n\u001b[1;32m    503\u001b[0m         \u001b[38;5;124m\"\u001b[39m\u001b[38;5;130;01m\\n\u001b[39;00m\u001b[38;5;130;01m\\n\u001b[39;00m\u001b[38;5;124m\"\u001b[39m,\n\u001b[1;32m    504\u001b[0m     )\n\u001b[1;32m    506\u001b[0m     doc, num_pages \u001b[38;5;241m=\u001b[39m get_pdf_doc_object(pdf_path)\n",
      "\u001b[0;31mTypeError\u001b[0m: unsupported operand type(s) for +: 'GenerativeModel' and 'str'"
     ]
    }
   ],
   "source": [
    "# Specify the PDF path\n",
    "pdf_path = \"google-10k-sample-14pages.pdf\"\n",
    "\n",
    "# Specify the image description prompt. Change it\n",
    "image_description_prompt = \"\"\"Explain what is going on in the image.\n",
    "If it's a table, extract all elements of the table.\n",
    "If it's a graph, explain the findings in the graph.\n",
    "Do not include any numbers that are not mentioned in the image:\"\"\"\n",
    "\n",
    "# Extract text and image metadata from the PDF document\n",
    "text_metadata_df = get_document_metadata(\n",
    "    PROJECT_ID,\n",
    "    model,\n",
    "    pdf_path,\n",
    "   # image_save_dir=\"https://2d00c17c7b0cb103-dot-us-central1.notebooks.googleusercontent.com/lab/tree/images\",\n",
    "   image_description_prompt=image_description_prompt,\n",
    "    embedding_size=1408,\n",
    " #   text_emb_text_limit=1000,  # Set text embedding input text limit to 1000 char\n",
    ")\n",
    "\n",
    "image_metadata_df = get_document_metadata(\n",
    "    PROJECT_ID,\n",
    "    model,\n",
    "    pdf_path,\n",
    "    image_save_dir=\"images\",\n",
    "    image_description_prompt=image_description_prompt,\n",
    "    embedding_size=1408,\n",
    "   # text_emb_text_limit=1000,  # Set text embedding input text limit to 1000 char\n",
    ")\n",
    "\n",
    "\n",
    "print(\"--- Completed processing. ---\")"
   ]
  },
  {
   "cell_type": "code",
   "execution_count": 9,
   "id": "3b2845b5-7b64-46be-9a23-f28333680411",
   "metadata": {
    "tags": []
   },
   "outputs": [
    {
     "ename": "NameError",
     "evalue": "name 'text_metadata_df' is not defined",
     "output_type": "error",
     "traceback": [
      "\u001b[0;31m---------------------------------------------------------------------------\u001b[0m",
      "\u001b[0;31mNameError\u001b[0m                                 Traceback (most recent call last)",
      "Cell \u001b[0;32mIn[9], line 1\u001b[0m\n\u001b[0;32m----> 1\u001b[0m \u001b[43mtext_metadata_df\u001b[49m\u001b[38;5;241m.\u001b[39mhead()\n",
      "\u001b[0;31mNameError\u001b[0m: name 'text_metadata_df' is not defined"
     ]
    }
   ],
   "source": [
    "text_metadata_df.head()"
   ]
  },
  {
   "cell_type": "code",
   "execution_count": 10,
   "id": "514971d2-3d0b-46e7-b17f-650124998e15",
   "metadata": {
    "tags": []
   },
   "outputs": [
    {
     "ename": "NameError",
     "evalue": "name 'image_metadata_df' is not defined",
     "output_type": "error",
     "traceback": [
      "\u001b[0;31m---------------------------------------------------------------------------\u001b[0m",
      "\u001b[0;31mNameError\u001b[0m                                 Traceback (most recent call last)",
      "Cell \u001b[0;32mIn[10], line 1\u001b[0m\n\u001b[0;32m----> 1\u001b[0m \u001b[43mimage_metadata_df\u001b[49m\u001b[38;5;241m.\u001b[39mhead()\n",
      "\u001b[0;31mNameError\u001b[0m: name 'image_metadata_df' is not defined"
     ]
    }
   ],
   "source": [
    "image_metadata_df.head()"
   ]
  },
  {
   "cell_type": "code",
   "execution_count": 11,
   "id": "e4adcdec-57d2-4de1-a5fe-3d052e5d2f2f",
   "metadata": {
    "tags": []
   },
   "outputs": [],
   "source": [
    "from utils.intro_multimodal_rag_utils import (\n",
    "    get_similar_text_from_query,\n",
    "    print_text_to_text_citation,\n",
    "    get_similar_image_from_query,\n",
    "    print_text_to_image_citation,\n",
    "    get_gemini_response,\n",
    "    display_images,\n",
    ")"
   ]
  },
  {
   "cell_type": "code",
   "execution_count": 12,
   "id": "7e7cff7e-1a67-4319-a2d9-671a68888cf1",
   "metadata": {
    "tags": []
   },
   "outputs": [],
   "source": [
    "query = \"I need details for basic and diluted net income per share of Class A, Class B, and Class C share for google?\""
   ]
  },
  {
   "cell_type": "code",
   "execution_count": 13,
   "id": "db9f80bf-9eed-4e69-93a8-82d31c189709",
   "metadata": {
    "tags": []
   },
   "outputs": [
    {
     "ename": "NameError",
     "evalue": "name 'text_metadata_df' is not defined",
     "output_type": "error",
     "traceback": [
      "\u001b[0;31m---------------------------------------------------------------------------\u001b[0m",
      "\u001b[0;31mNameError\u001b[0m                                 Traceback (most recent call last)",
      "Cell \u001b[0;32mIn[13], line 5\u001b[0m\n\u001b[1;32m      1\u001b[0m \u001b[38;5;66;03m# Matching user text query with \"chunk_embedding\" to find relevant chunks.\u001b[39;00m\n\u001b[1;32m      2\u001b[0m matching_results_text \u001b[38;5;241m=\u001b[39m get_similar_text_from_query(\n\u001b[1;32m      3\u001b[0m     PROJECT_ID,\n\u001b[1;32m      4\u001b[0m     query,\n\u001b[0;32m----> 5\u001b[0m     \u001b[43mtext_metadata_df\u001b[49m,\n\u001b[1;32m      6\u001b[0m     column_name\u001b[38;5;241m=\u001b[39m\u001b[38;5;124m\"\u001b[39m\u001b[38;5;124mtext_embedding_chunk\u001b[39m\u001b[38;5;124m\"\u001b[39m,\n\u001b[1;32m      7\u001b[0m     top_n\u001b[38;5;241m=\u001b[39m\u001b[38;5;241m3\u001b[39m,\n\u001b[1;32m      8\u001b[0m     embedding_size\u001b[38;5;241m=\u001b[39m\u001b[38;5;241m1408\u001b[39m,\n\u001b[1;32m      9\u001b[0m     chunk_text\u001b[38;5;241m=\u001b[39m\u001b[38;5;28;01mTrue\u001b[39;00m,\n\u001b[1;32m     10\u001b[0m )\n\u001b[1;32m     12\u001b[0m \u001b[38;5;66;03m# Print the matched text citations\u001b[39;00m\n\u001b[1;32m     13\u001b[0m print_text_to_text_citation(matching_results_text, print_top\u001b[38;5;241m=\u001b[39m\u001b[38;5;28;01mTrue\u001b[39;00m, chunk_text\u001b[38;5;241m=\u001b[39m\u001b[38;5;28;01mTrue\u001b[39;00m)\n",
      "\u001b[0;31mNameError\u001b[0m: name 'text_metadata_df' is not defined"
     ]
    }
   ],
   "source": [
    "# Matching user text query with \"chunk_embedding\" to find relevant chunks.\n",
    "matching_results_text = get_similar_text_from_query(\n",
    "    PROJECT_ID,\n",
    "    query,\n",
    "    text_metadata_df,\n",
    "    column_name=\"text_embedding_chunk\",\n",
    "    top_n=3,\n",
    "    embedding_size=1408,\n",
    "    chunk_text=True,\n",
    ")\n",
    "\n",
    "# Print the matched text citations\n",
    "print_text_to_text_citation(matching_results_text, print_top=True, chunk_text=True)\n"
   ]
  },
  {
   "cell_type": "code",
   "execution_count": 14,
   "id": "5fb3b75d-3842-4d5f-86fb-e84fb2c76caf",
   "metadata": {
    "tags": []
   },
   "outputs": [
    {
     "ename": "NameError",
     "evalue": "name 'text_metadata_df' is not defined",
     "output_type": "error",
     "traceback": [
      "\u001b[0;31m---------------------------------------------------------------------------\u001b[0m",
      "\u001b[0;31mNameError\u001b[0m                                 Traceback (most recent call last)",
      "Cell \u001b[0;32mIn[14], line 3\u001b[0m\n\u001b[1;32m      1\u001b[0m matching_results_image \u001b[38;5;241m=\u001b[39m get_similar_image_from_query(\n\u001b[1;32m      2\u001b[0m     PROJECT_ID,\n\u001b[0;32m----> 3\u001b[0m     \u001b[43mtext_metadata_df\u001b[49m,\n\u001b[1;32m      4\u001b[0m     image_metadata_df,\n\u001b[1;32m      5\u001b[0m     query\u001b[38;5;241m=\u001b[39mquery,\n\u001b[1;32m      6\u001b[0m     column_name\u001b[38;5;241m=\u001b[39m\u001b[38;5;124m\"\u001b[39m\u001b[38;5;124mtext_embedding_from_image_description\u001b[39m\u001b[38;5;124m\"\u001b[39m,  \u001b[38;5;66;03m# Use image description text embedding\u001b[39;00m\n\u001b[1;32m      7\u001b[0m     image_emb\u001b[38;5;241m=\u001b[39m\u001b[38;5;28;01mFalse\u001b[39;00m,  \u001b[38;5;66;03m# Use text embedding instead of image embedding\u001b[39;00m\n\u001b[1;32m      8\u001b[0m     top_n\u001b[38;5;241m=\u001b[39m\u001b[38;5;241m3\u001b[39m,\n\u001b[1;32m      9\u001b[0m     embedding_size\u001b[38;5;241m=\u001b[39m\u001b[38;5;241m1408\u001b[39m,\n\u001b[1;32m     10\u001b[0m )\n\u001b[1;32m     12\u001b[0m \u001b[38;5;66;03m# Markdown(print_text_to_image_citation(matching_results_image, print_top=True))\u001b[39;00m\n\u001b[1;32m     13\u001b[0m \u001b[38;5;28mprint\u001b[39m(\u001b[38;5;124m\"\u001b[39m\u001b[38;5;130;01m\\n\u001b[39;00m\u001b[38;5;124m **** Result: ***** \u001b[39m\u001b[38;5;130;01m\\n\u001b[39;00m\u001b[38;5;124m\"\u001b[39m)\n",
      "\u001b[0;31mNameError\u001b[0m: name 'text_metadata_df' is not defined"
     ]
    }
   ],
   "source": [
    "matching_results_image = get_similar_image_from_query(\n",
    "    PROJECT_ID,\n",
    "    text_metadata_df,\n",
    "    image_metadata_df,\n",
    "    query=query,\n",
    "    column_name=\"text_embedding_from_image_description\",  # Use image description text embedding\n",
    "    image_emb=False,  # Use text embedding instead of image embedding\n",
    "    top_n=3,\n",
    "    embedding_size=1408,\n",
    ")\n",
    "\n",
    "# Markdown(print_text_to_image_citation(matching_results_image, print_top=True))\n",
    "print(\"\\n **** Result: ***** \\n\")\n",
    "\n",
    "# Display the top matching image\n",
    "display(matching_results_image[0][\"image_object\"])"
   ]
  },
  {
   "cell_type": "code",
   "execution_count": 15,
   "id": "ff51f91c-05ef-4263-a720-4ec7e0c594a3",
   "metadata": {
    "tags": []
   },
   "outputs": [
    {
     "ename": "NameError",
     "evalue": "name 'matching_results_image' is not defined",
     "output_type": "error",
     "traceback": [
      "\u001b[0;31m---------------------------------------------------------------------------\u001b[0m",
      "\u001b[0;31mNameError\u001b[0m                                 Traceback (most recent call last)",
      "Cell \u001b[0;32mIn[15], line 3\u001b[0m\n\u001b[1;32m      1\u001b[0m \u001b[38;5;66;03m## you can check the citations to probe further.\u001b[39;00m\n\u001b[1;32m      2\u001b[0m \u001b[38;5;66;03m## check the \"image description:\" which is a description extracted through gemini which helped search our query.\u001b[39;00m\n\u001b[0;32m----> 3\u001b[0m Markdown(print_text_to_image_citation(\u001b[43mmatching_results_image\u001b[49m, print_top\u001b[38;5;241m=\u001b[39m\u001b[38;5;28;01mTrue\u001b[39;00m))\n",
      "\u001b[0;31mNameError\u001b[0m: name 'matching_results_image' is not defined"
     ]
    }
   ],
   "source": [
    "## you can check the citations to probe further.\n",
    "## check the \"image description:\" which is a description extracted through gemini which helped search our query.\n",
    "Markdown(print_text_to_image_citation(matching_results_image, print_top=True))"
   ]
  },
  {
   "cell_type": "code",
   "execution_count": 16,
   "id": "104d50a1-56f9-40ce-bc9b-85f809a73332",
   "metadata": {
    "tags": []
   },
   "outputs": [
    {
     "name": "stdout",
     "output_type": "stream",
     "text": [
      "***Input image from user:***\n"
     ]
    },
    {
     "data": {
      "image/png": "[encoded data removed]",
      "text/plain": [
       "<vertexai.generative_models._generative_models.Image at 0x7f0e7b045b40>"
      ]
     },
     "execution_count": 16,
     "metadata": {},
     "output_type": "execute_result"
    }
   ],
   "source": [
    "# You can find a similar image as per the images you have in the metadata.\n",
    "# In this case, you have a table (picked from the same document source) and you would like to find similar tables in the document.\n",
    "image_query_path = \"tac_table_revenue.png\"\n",
    "\n",
    "# Print a message indicating the input image\n",
    "print(\"***Input image from user:***\")\n",
    "\n",
    "# Display the input image\n",
    "Image.load_from_file(image_query_path)"
   ]
  },
  {
   "cell_type": "code",
   "execution_count": 17,
   "id": "adc93694-3254-4695-8169-82fa48ec0821",
   "metadata": {
    "tags": []
   },
   "outputs": [
    {
     "ename": "NameError",
     "evalue": "name 'text_metadata_df' is not defined",
     "output_type": "error",
     "traceback": [
      "\u001b[0;31m---------------------------------------------------------------------------\u001b[0m",
      "\u001b[0;31mNameError\u001b[0m                                 Traceback (most recent call last)",
      "Cell \u001b[0;32mIn[17], line 5\u001b[0m\n\u001b[1;32m      1\u001b[0m \u001b[38;5;66;03m# Search for Similar Images Based on Input Image and Image Embedding\u001b[39;00m\n\u001b[1;32m      3\u001b[0m matching_results_image \u001b[38;5;241m=\u001b[39m get_similar_image_from_query(\n\u001b[1;32m      4\u001b[0m     PROJECT_ID,\n\u001b[0;32m----> 5\u001b[0m     \u001b[43mtext_metadata_df\u001b[49m,\n\u001b[1;32m      6\u001b[0m     image_metadata_df,\n\u001b[1;32m      7\u001b[0m     query\u001b[38;5;241m=\u001b[39mquery,  \u001b[38;5;66;03m# Use query text for additional filtering (optional)\u001b[39;00m\n\u001b[1;32m      8\u001b[0m     column_name\u001b[38;5;241m=\u001b[39m\u001b[38;5;124m\"\u001b[39m\u001b[38;5;124mmm_embedding_from_img_only\u001b[39m\u001b[38;5;124m\"\u001b[39m,  \u001b[38;5;66;03m# Use image embedding for similarity calculation\u001b[39;00m\n\u001b[1;32m      9\u001b[0m     image_emb\u001b[38;5;241m=\u001b[39m\u001b[38;5;28;01mTrue\u001b[39;00m,\n\u001b[1;32m     10\u001b[0m     image_query_path\u001b[38;5;241m=\u001b[39mimage_query_path,  \u001b[38;5;66;03m# Use input image for similarity calculation\u001b[39;00m\n\u001b[1;32m     11\u001b[0m     top_n\u001b[38;5;241m=\u001b[39m\u001b[38;5;241m3\u001b[39m,  \u001b[38;5;66;03m# Retrieve top 3 matching images\u001b[39;00m\n\u001b[1;32m     12\u001b[0m     embedding_size\u001b[38;5;241m=\u001b[39m\u001b[38;5;241m1408\u001b[39m,  \u001b[38;5;66;03m# Use embedding size of 1408\u001b[39;00m\n\u001b[1;32m     13\u001b[0m )\n\u001b[1;32m     15\u001b[0m \u001b[38;5;28mprint\u001b[39m(\u001b[38;5;124m\"\u001b[39m\u001b[38;5;130;01m\\n\u001b[39;00m\u001b[38;5;124m **** Result: ***** \u001b[39m\u001b[38;5;130;01m\\n\u001b[39;00m\u001b[38;5;124m\"\u001b[39m)\n\u001b[1;32m     17\u001b[0m \u001b[38;5;66;03m# Display the Top Matching Image\u001b[39;00m\n",
      "\u001b[0;31mNameError\u001b[0m: name 'text_metadata_df' is not defined"
     ]
    }
   ],
   "source": [
    "# Search for Similar Images Based on Input Image and Image Embedding\n",
    "\n",
    "matching_results_image = get_similar_image_from_query(\n",
    "    PROJECT_ID,\n",
    "    text_metadata_df,\n",
    "    image_metadata_df,\n",
    "    query=query,  # Use query text for additional filtering (optional)\n",
    "    column_name=\"mm_embedding_from_img_only\",  # Use image embedding for similarity calculation\n",
    "    image_emb=True,\n",
    "    image_query_path=image_query_path,  # Use input image for similarity calculation\n",
    "    top_n=3,  # Retrieve top 3 matching images\n",
    "    embedding_size=1408,  # Use embedding size of 1408\n",
    ")\n",
    "\n",
    "print(\"\\n **** Result: ***** \\n\")\n",
    "\n",
    "# Display the Top Matching Image\n",
    "display(\n",
    "    matching_results_image[0][\"image_object\"]\n",
    ")  # Display the top matching image object (Pillow Image)\n"
   ]
  },
  {
   "cell_type": "code",
   "execution_count": 18,
   "id": "de3b3241-7266-489d-b303-39c74a2a249f",
   "metadata": {
    "tags": []
   },
   "outputs": [
    {
     "ename": "NameError",
     "evalue": "name 'matching_results_image' is not defined",
     "output_type": "error",
     "traceback": [
      "\u001b[0;31m---------------------------------------------------------------------------\u001b[0m",
      "\u001b[0;31mNameError\u001b[0m                                 Traceback (most recent call last)",
      "Cell \u001b[0;32mIn[18], line 3\u001b[0m\n\u001b[1;32m      1\u001b[0m \u001b[38;5;66;03m# Display citation details for the top matching image\u001b[39;00m\n\u001b[1;32m      2\u001b[0m print_text_to_image_citation(\n\u001b[0;32m----> 3\u001b[0m     \u001b[43mmatching_results_image\u001b[49m, print_top\u001b[38;5;241m=\u001b[39m\u001b[38;5;28;01mTrue\u001b[39;00m\n\u001b[1;32m      4\u001b[0m )  \u001b[38;5;66;03m# Print citation details for the top matching image\u001b[39;00m\n",
      "\u001b[0;31mNameError\u001b[0m: name 'matching_results_image' is not defined"
     ]
    }
   ],
   "source": [
    "# Display citation details for the top matching image\n",
    "print_text_to_image_citation(\n",
    "    matching_results_image, print_top=True\n",
    ")  # Print citation details for the top matching image"
   ]
  },
  {
   "cell_type": "code",
   "execution_count": 19,
   "id": "098ed598-317c-4c75-aa42-208214809570",
   "metadata": {
    "tags": []
   },
   "outputs": [
    {
     "name": "stdout",
     "output_type": "stream",
     "text": [
      "---------------Matched Images------------------\n",
      "\n"
     ]
    },
    {
     "ename": "NameError",
     "evalue": "name 'matching_results_image' is not defined",
     "output_type": "error",
     "traceback": [
      "\u001b[0;31m---------------------------------------------------------------------------\u001b[0m",
      "\u001b[0;31mNameError\u001b[0m                                 Traceback (most recent call last)",
      "Cell \u001b[0;32mIn[19], line 7\u001b[0m\n\u001b[1;32m      1\u001b[0m \u001b[38;5;66;03m# Check Other Matched Images (Optional)\u001b[39;00m\n\u001b[1;32m      2\u001b[0m \u001b[38;5;66;03m# You can access the other two matched images using:\u001b[39;00m\n\u001b[1;32m      4\u001b[0m \u001b[38;5;28mprint\u001b[39m(\u001b[38;5;124m\"\u001b[39m\u001b[38;5;124m---------------Matched Images------------------\u001b[39m\u001b[38;5;130;01m\\n\u001b[39;00m\u001b[38;5;124m\"\u001b[39m)\n\u001b[1;32m      5\u001b[0m display_images(\n\u001b[1;32m      6\u001b[0m     [\n\u001b[0;32m----> 7\u001b[0m         \u001b[43mmatching_results_image\u001b[49m[\u001b[38;5;241m0\u001b[39m][\u001b[38;5;124m\"\u001b[39m\u001b[38;5;124mimg_path\u001b[39m\u001b[38;5;124m\"\u001b[39m],\n\u001b[1;32m      8\u001b[0m         matching_results_image[\u001b[38;5;241m1\u001b[39m][\u001b[38;5;124m\"\u001b[39m\u001b[38;5;124mimg_path\u001b[39m\u001b[38;5;124m\"\u001b[39m],\n\u001b[1;32m      9\u001b[0m     ],\n\u001b[1;32m     10\u001b[0m     resize_ratio\u001b[38;5;241m=\u001b[39m\u001b[38;5;241m0.8\u001b[39m,\n\u001b[1;32m     11\u001b[0m )\n",
      "\u001b[0;31mNameError\u001b[0m: name 'matching_results_image' is not defined"
     ]
    }
   ],
   "source": [
    "# Check Other Matched Images (Optional)\n",
    "# You can access the other two matched images using:\n",
    "\n",
    "print(\"---------------Matched Images------------------\\n\")\n",
    "display_images(\n",
    "    [\n",
    "        matching_results_image[0][\"img_path\"],\n",
    "        matching_results_image[1][\"img_path\"],\n",
    "    ],\n",
    "    resize_ratio=0.8,\n",
    ")"
   ]
  },
  {
   "cell_type": "code",
   "execution_count": 20,
   "id": "cfd7d5c6-137e-4336-a802-49e58af124b4",
   "metadata": {
    "tags": []
   },
   "outputs": [
    {
     "name": "stdout",
     "output_type": "stream",
     "text": [
      "***Input image from user:***\n"
     ]
    },
    {
     "data": {
      "image/png": "[encoded data removed]",
      "text/plain": [
       "<vertexai.generative_models._generative_models.Image at 0x7f0e6a463f10>"
      ]
     },
     "execution_count": 20,
     "metadata": {},
     "output_type": "execute_result"
    }
   ],
   "source": [
    "image_query_path = \"class_a_share.png\"\n",
    "\n",
    "# Print a message indicating the input image\n",
    "print(\"***Input image from user:***\")\n",
    "\n",
    "# Display the input image\n",
    "Image.load_from_file(image_query_path)"
   ]
  },
  {
   "cell_type": "code",
   "execution_count": 21,
   "id": "2175ea7b-1952-40f3-bf84-b43375a9dd31",
   "metadata": {
    "tags": []
   },
   "outputs": [
    {
     "ename": "NameError",
     "evalue": "name 'text_metadata_df' is not defined",
     "output_type": "error",
     "traceback": [
      "\u001b[0;31m---------------------------------------------------------------------------\u001b[0m",
      "\u001b[0;31mNameError\u001b[0m                                 Traceback (most recent call last)",
      "Cell \u001b[0;32mIn[21], line 14\u001b[0m\n\u001b[1;32m      7\u001b[0m instructions \u001b[38;5;241m=\u001b[39m \u001b[38;5;124m\"\"\"\u001b[39m\u001b[38;5;124minstructions: Compare two images and base your reasoning only on the images provided.\u001b[39m\n\u001b[1;32m      8\u001b[0m \u001b[38;5;124mProvide detail reasoning of your conclusions.\u001b[39m\n\u001b[1;32m      9\u001b[0m \u001b[38;5;124mImages: \u001b[39m\u001b[38;5;124m\"\"\"\u001b[39m\n\u001b[1;32m     11\u001b[0m \u001b[38;5;66;03m# Find similar images based on the input image\u001b[39;00m\n\u001b[1;32m     12\u001b[0m image_selected_based_on_source_image \u001b[38;5;241m=\u001b[39m get_similar_image_from_query(\n\u001b[1;32m     13\u001b[0m     PROJECT_ID,\n\u001b[0;32m---> 14\u001b[0m     \u001b[43mtext_metadata_df\u001b[49m,\n\u001b[1;32m     15\u001b[0m     image_metadata_df,\n\u001b[1;32m     16\u001b[0m     image_query_path\u001b[38;5;241m=\u001b[39mimage_query_path,\n\u001b[1;32m     17\u001b[0m     column_name\u001b[38;5;241m=\u001b[39m\u001b[38;5;124m\"\u001b[39m\u001b[38;5;124mmm_embedding_from_img_only\u001b[39m\u001b[38;5;124m\"\u001b[39m,\n\u001b[1;32m     18\u001b[0m     image_emb\u001b[38;5;241m=\u001b[39m\u001b[38;5;28;01mTrue\u001b[39;00m,\n\u001b[1;32m     19\u001b[0m     top_n\u001b[38;5;241m=\u001b[39m\u001b[38;5;241m3\u001b[39m,\n\u001b[1;32m     20\u001b[0m     embedding_size\u001b[38;5;241m=\u001b[39m\u001b[38;5;241m1408\u001b[39m,\n\u001b[1;32m     21\u001b[0m )\n\u001b[1;32m     23\u001b[0m \u001b[38;5;66;03m# Select the best matching image from the search results\u001b[39;00m\n\u001b[1;32m     24\u001b[0m selected_image_object \u001b[38;5;241m=\u001b[39m image_selected_based_on_source_image[\u001b[38;5;241m0\u001b[39m][\u001b[38;5;124m\"\u001b[39m\u001b[38;5;124mimage_object\u001b[39m\u001b[38;5;124m\"\u001b[39m]\n",
      "\u001b[0;31mNameError\u001b[0m: name 'text_metadata_df' is not defined"
     ]
    }
   ],
   "source": [
    "# Load the input image using Pillow\n",
    "user_image_object = Image.load_from_file(image_query_path)\n",
    "\n",
    "# Define the comparison query\n",
    "compare_query = \"\"\"Question: How has nasdaq performed with respect to Class A and Class B shares of Google?\n",
    "Answer: \"\"\"\n",
    "instructions = \"\"\"instructions: Compare two images and base your reasoning only on the images provided.\n",
    "Provide detail reasoning of your conclusions.\n",
    "Images: \"\"\"\n",
    "\n",
    "# Find similar images based on the input image\n",
    "image_selected_based_on_source_image = get_similar_image_from_query(\n",
    "    PROJECT_ID,\n",
    "    text_metadata_df,\n",
    "    image_metadata_df,\n",
    "    image_query_path=image_query_path,\n",
    "    column_name=\"mm_embedding_from_img_only\",\n",
    "    image_emb=True,\n",
    "    top_n=3,\n",
    "    embedding_size=1408,\n",
    ")\n",
    "\n",
    "# Select the best matching image from the search results\n",
    "selected_image_object = image_selected_based_on_source_image[0][\"image_object\"]\n",
    "\n",
    "# Prepare the model input\n",
    "model_input = [instructions, user_image_object, selected_image_object, compare_query]\n",
    "\n",
    "# Generate Gemini response with streaming output\n",
    "Markdown(get_gemini_response(model, model_input=model_input, stream=True))\n"
   ]
  },
  {
   "cell_type": "code",
   "execution_count": 22,
   "id": "7c3372f3-5b73-47f4-91ef-8853e4a1dbf6",
   "metadata": {
    "tags": []
   },
   "outputs": [
    {
     "ename": "NameError",
     "evalue": "name 'image_selected_based_on_source_image' is not defined",
     "output_type": "error",
     "traceback": [
      "\u001b[0;31m---------------------------------------------------------------------------\u001b[0m",
      "\u001b[0;31mNameError\u001b[0m                                 Traceback (most recent call last)",
      "Cell \u001b[0;32mIn[22], line 1\u001b[0m\n\u001b[0;32m----> 1\u001b[0m Image\u001b[38;5;241m.\u001b[39mload_from_file(\u001b[43mimage_selected_based_on_source_image\u001b[49m[\u001b[38;5;241m0\u001b[39m][\u001b[38;5;124m\"\u001b[39m\u001b[38;5;124mimg_path\u001b[39m\u001b[38;5;124m\"\u001b[39m])\n",
      "\u001b[0;31mNameError\u001b[0m: name 'image_selected_based_on_source_image' is not defined"
     ]
    }
   ],
   "source": [
    "Image.load_from_file(image_selected_based_on_source_image[0][\"img_path\"])"
   ]
  },
  {
   "cell_type": "code",
   "execution_count": 23,
   "id": "5aee0567-7f35-43a0-b032-95d8a976199c",
   "metadata": {
    "tags": []
   },
   "outputs": [
    {
     "ename": "NameError",
     "evalue": "name 'image_selected_based_on_source_image' is not defined",
     "output_type": "error",
     "traceback": [
      "\u001b[0;31m---------------------------------------------------------------------------\u001b[0m",
      "\u001b[0;31mNameError\u001b[0m                                 Traceback (most recent call last)",
      "Cell \u001b[0;32mIn[23], line 2\u001b[0m\n\u001b[1;32m      1\u001b[0m \u001b[38;5;66;03m# citations\u001b[39;00m\n\u001b[0;32m----> 2\u001b[0m print_text_to_image_citation(\u001b[43mimage_selected_based_on_source_image\u001b[49m, print_top\u001b[38;5;241m=\u001b[39m\u001b[38;5;28;01mTrue\u001b[39;00m)\n",
      "\u001b[0;31mNameError\u001b[0m: name 'image_selected_based_on_source_image' is not defined"
     ]
    }
   ],
   "source": [
    "# citations\n",
    "print_text_to_image_citation(image_selected_based_on_source_image, print_top=True)"
   ]
  },
  {
   "cell_type": "code",
   "execution_count": 24,
   "id": "4dd66b1b-d8f1-4ea1-b1b5-a1c7049b7c93",
   "metadata": {
    "tags": []
   },
   "outputs": [],
   "source": [
    "# this time we are not passing any images, but just a simple text query.\n",
    "\n",
    "query = \"\"\"Question: How has nasdaq and s&p performed with respect to class A shares and class C shares?\n",
    "Which one would be better to buy and why?\n",
    "Answer: \"\"\"\n",
    "\n",
    "# query = \"\"\"Question: Find the total revenues and other related financial numbers for Alphabet\n",
    "# Answer: \"\"\"\n"
   ]
  },
  {
   "cell_type": "code",
   "execution_count": 25,
   "id": "c6c51126-1ee4-4e46-a796-54ac84655ca0",
   "metadata": {
    "tags": []
   },
   "outputs": [
    {
     "ename": "NameError",
     "evalue": "name 'text_metadata_df' is not defined",
     "output_type": "error",
     "traceback": [
      "\u001b[0;31m---------------------------------------------------------------------------\u001b[0m",
      "\u001b[0;31mNameError\u001b[0m                                 Traceback (most recent call last)",
      "Cell \u001b[0;32mIn[25], line 5\u001b[0m\n\u001b[1;32m      1\u001b[0m \u001b[38;5;66;03m# Retrieve relevant chunks of text based on the query\u001b[39;00m\n\u001b[1;32m      2\u001b[0m matching_results_chunks_data \u001b[38;5;241m=\u001b[39m get_similar_text_from_query(\n\u001b[1;32m      3\u001b[0m     PROJECT_ID,\n\u001b[1;32m      4\u001b[0m     query,\n\u001b[0;32m----> 5\u001b[0m     \u001b[43mtext_metadata_df\u001b[49m,\n\u001b[1;32m      6\u001b[0m     column_name\u001b[38;5;241m=\u001b[39m\u001b[38;5;124m\"\u001b[39m\u001b[38;5;124mtext_embedding_chunk\u001b[39m\u001b[38;5;124m\"\u001b[39m,\n\u001b[1;32m      7\u001b[0m     top_n\u001b[38;5;241m=\u001b[39m\u001b[38;5;241m5\u001b[39m,\n\u001b[1;32m      8\u001b[0m     embedding_size\u001b[38;5;241m=\u001b[39m\u001b[38;5;241m1408\u001b[39m,\n\u001b[1;32m      9\u001b[0m     chunk_text\u001b[38;5;241m=\u001b[39m\u001b[38;5;28;01mTrue\u001b[39;00m,\n\u001b[1;32m     10\u001b[0m )\n",
      "\u001b[0;31mNameError\u001b[0m: name 'text_metadata_df' is not defined"
     ]
    }
   ],
   "source": [
    "# Retrieve relevant chunks of text based on the query\n",
    "matching_results_chunks_data = get_similar_text_from_query(\n",
    "    PROJECT_ID,\n",
    "    query,\n",
    "    text_metadata_df,\n",
    "    column_name=\"text_embedding_chunk\",\n",
    "    top_n=5,\n",
    "    embedding_size=1408,\n",
    "    chunk_text=True,\n",
    ")"
   ]
  },
  {
   "cell_type": "code",
   "execution_count": 26,
   "id": "519299eb-f1b1-4ae4-99b1-8f12d7810be0",
   "metadata": {
    "tags": []
   },
   "outputs": [
    {
     "ename": "NameError",
     "evalue": "name 'text_metadata_df' is not defined",
     "output_type": "error",
     "traceback": [
      "\u001b[0;31m---------------------------------------------------------------------------\u001b[0m",
      "\u001b[0;31mNameError\u001b[0m                                 Traceback (most recent call last)",
      "Cell \u001b[0;32mIn[26], line 4\u001b[0m\n\u001b[1;32m      1\u001b[0m \u001b[38;5;66;03m# Get all relevant images based on user query\u001b[39;00m\n\u001b[1;32m      2\u001b[0m matching_results_image_fromdescription_data \u001b[38;5;241m=\u001b[39m get_similar_image_from_query(\n\u001b[1;32m      3\u001b[0m     PROJECT_ID,\n\u001b[0;32m----> 4\u001b[0m     \u001b[43mtext_metadata_df\u001b[49m,\n\u001b[1;32m      5\u001b[0m     image_metadata_df,\n\u001b[1;32m      6\u001b[0m     query\u001b[38;5;241m=\u001b[39mquery,\n\u001b[1;32m      7\u001b[0m     column_name\u001b[38;5;241m=\u001b[39m\u001b[38;5;124m\"\u001b[39m\u001b[38;5;124mtext_embedding_from_image_description\u001b[39m\u001b[38;5;124m\"\u001b[39m,\n\u001b[1;32m      8\u001b[0m     image_emb\u001b[38;5;241m=\u001b[39m\u001b[38;5;28;01mFalse\u001b[39;00m,\n\u001b[1;32m      9\u001b[0m     top_n\u001b[38;5;241m=\u001b[39m\u001b[38;5;241m3\u001b[39m,\n\u001b[1;32m     10\u001b[0m     embedding_size\u001b[38;5;241m=\u001b[39m\u001b[38;5;241m1408\u001b[39m,\n\u001b[1;32m     11\u001b[0m )\n",
      "\u001b[0;31mNameError\u001b[0m: name 'text_metadata_df' is not defined"
     ]
    }
   ],
   "source": [
    "# Get all relevant images based on user query\n",
    "matching_results_image_fromdescription_data = get_similar_image_from_query(\n",
    "    PROJECT_ID,\n",
    "    text_metadata_df,\n",
    "    image_metadata_df,\n",
    "    query=query,\n",
    "    column_name=\"text_embedding_from_image_description\",\n",
    "    image_emb=False,\n",
    "    top_n=3,\n",
    "    embedding_size=1408,\n",
    ")"
   ]
  },
  {
   "cell_type": "code",
   "execution_count": 27,
   "id": "445544bd-ba73-4c50-9bc6-2f7b09ffd20d",
   "metadata": {
    "tags": []
   },
   "outputs": [
    {
     "ename": "NameError",
     "evalue": "name 'matching_results_chunks_data' is not defined",
     "output_type": "error",
     "traceback": [
      "\u001b[0;31m---------------------------------------------------------------------------\u001b[0m",
      "\u001b[0;31mNameError\u001b[0m                                 Traceback (most recent call last)",
      "Cell \u001b[0;32mIn[27], line 3\u001b[0m\n\u001b[1;32m      1\u001b[0m \u001b[38;5;66;03m# combine all the selected relevant text chunks\u001b[39;00m\n\u001b[1;32m      2\u001b[0m context_text \u001b[38;5;241m=\u001b[39m []\n\u001b[0;32m----> 3\u001b[0m \u001b[38;5;28;01mfor\u001b[39;00m key, value \u001b[38;5;129;01min\u001b[39;00m \u001b[43mmatching_results_chunks_data\u001b[49m\u001b[38;5;241m.\u001b[39mitems():\n\u001b[1;32m      4\u001b[0m     context_text\u001b[38;5;241m.\u001b[39mappend(value[\u001b[38;5;124m\"\u001b[39m\u001b[38;5;124mchunk_text\u001b[39m\u001b[38;5;124m\"\u001b[39m])\n\u001b[1;32m      5\u001b[0m final_context_text \u001b[38;5;241m=\u001b[39m \u001b[38;5;124m\"\u001b[39m\u001b[38;5;130;01m\\n\u001b[39;00m\u001b[38;5;124m\"\u001b[39m\u001b[38;5;241m.\u001b[39mjoin(context_text)\n",
      "\u001b[0;31mNameError\u001b[0m: name 'matching_results_chunks_data' is not defined"
     ]
    }
   ],
   "source": [
    "# combine all the selected relevant text chunks\n",
    "context_text = []\n",
    "for key, value in matching_results_chunks_data.items():\n",
    "    context_text.append(value[\"chunk_text\"])\n",
    "final_context_text = \"\\n\".join(context_text)\n",
    "\n",
    "# combine all the relevant images and their description generated by Gemini\n",
    "context_images = []\n",
    "for key, value in matching_results_image_fromdescription_data.items():\n",
    "    context_images.extend(\n",
    "        [\"Image: \", value[\"image_object\"], \"Caption: \", value[\"image_description\"]]\n",
    "    )\n"
   ]
  },
  {
   "cell_type": "code",
   "execution_count": 28,
   "id": "dfd60a2d-2d25-4501-8860-4ec155ce529e",
   "metadata": {
    "tags": []
   },
   "outputs": [
    {
     "ename": "NameError",
     "evalue": "name 'context_images' is not defined",
     "output_type": "error",
     "traceback": [
      "\u001b[0;31m---------------------------------------------------------------------------\u001b[0m",
      "\u001b[0;31mNameError\u001b[0m                                 Traceback (most recent call last)",
      "Cell \u001b[0;32mIn[28], line 13\u001b[0m\n\u001b[1;32m      1\u001b[0m instructions \u001b[38;5;241m=\u001b[39m \u001b[38;5;124m\"\"\"\u001b[39m\u001b[38;5;124mThe context of extraction of detail should be based on the text context given in \u001b[39m\u001b[38;5;124m\"\u001b[39m\u001b[38;5;124mtext_context\u001b[39m\u001b[38;5;124m\"\u001b[39m\u001b[38;5;124m and Image context given in \u001b[39m\u001b[38;5;124m\"\u001b[39m\u001b[38;5;124mimage_context\u001b[39m\u001b[38;5;124m\"\u001b[39m\u001b[38;5;124m along with its Caption: \u001b[39m\u001b[38;5;130;01m\\n\u001b[39;00m\n\u001b[1;32m      2\u001b[0m \u001b[38;5;124mBase your response on \u001b[39m\u001b[38;5;124m\"\u001b[39m\u001b[38;5;124mtext_context\u001b[39m\u001b[38;5;124m\"\u001b[39m\u001b[38;5;124m and \u001b[39m\u001b[38;5;124m\"\u001b[39m\u001b[38;5;124mimage_context\u001b[39m\u001b[38;5;124m\"\u001b[39m\u001b[38;5;124m. Do not use any numbers or percentages that are not present in the \u001b[39m\u001b[38;5;124m\"\u001b[39m\u001b[38;5;124mimage_context\u001b[39m\u001b[38;5;124m\"\u001b[39m\u001b[38;5;124m.\u001b[39m\n\u001b[1;32m      3\u001b[0m \u001b[38;5;124mDo not include any cumulative total return in the answer. Context:\u001b[39m\n\u001b[1;32m      4\u001b[0m \u001b[38;5;124m\"\"\"\u001b[39m\n\u001b[1;32m      6\u001b[0m final_prompt \u001b[38;5;241m=\u001b[39m [\n\u001b[1;32m      7\u001b[0m     query,\n\u001b[1;32m      8\u001b[0m     instructions,\n\u001b[0;32m   (...)\u001b[0m\n\u001b[1;32m     11\u001b[0m     \u001b[38;5;124m\"\u001b[39m\u001b[38;5;124mimage_context:\u001b[39m\u001b[38;5;124m\"\u001b[39m,\n\u001b[1;32m     12\u001b[0m ]\n\u001b[0;32m---> 13\u001b[0m final_prompt\u001b[38;5;241m.\u001b[39mextend(\u001b[43mcontext_images\u001b[49m)\n",
      "\u001b[0;31mNameError\u001b[0m: name 'context_images' is not defined"
     ]
    }
   ],
   "source": [
    "instructions = \"\"\"The context of extraction of detail should be based on the text context given in \"text_context\" and Image context given in \"image_context\" along with its Caption: \\n\n",
    "Base your response on \"text_context\" and \"image_context\". Do not use any numbers or percentages that are not present in the \"image_context\".\n",
    "Do not include any cumulative total return in the answer. Context:\n",
    "\"\"\"\n",
    "\n",
    "final_prompt = [\n",
    "    query,\n",
    "    instructions,\n",
    "    \"text_context:\",\n",
    "    \"\\n\".join(context_text),\n",
    "    \"image_context:\",\n",
    "]\n",
    "final_prompt.extend(context_images)"
   ]
  },
  {
   "cell_type": "code",
   "execution_count": 29,
   "id": "ce43ba18-a41b-4c80-a9bb-e1d893dfaad2",
   "metadata": {
    "tags": []
   },
   "outputs": [
    {
     "ename": "InvalidArgument",
     "evalue": "400 Unable to submit request because it has an empty text parameter. Add a value to the parameter and try again. Learn more: https://cloud.google.com/vertex-ai/generative-ai/docs/model-reference/gemini",
     "output_type": "error",
     "traceback": [
      "\u001b[0;31m---------------------------------------------------------------------------\u001b[0m",
      "\u001b[0;31m_MultiThreadedRendezvous\u001b[0m                  Traceback (most recent call last)",
      "File \u001b[0;32m/opt/conda/lib/python3.10/site-packages/google/api_core/grpc_helpers.py:155\u001b[0m, in \u001b[0;36m_wrap_stream_errors.<locals>.error_remapped_callable\u001b[0;34m(*args, **kwargs)\u001b[0m\n\u001b[1;32m    154\u001b[0m     prefetch_first \u001b[38;5;241m=\u001b[39m \u001b[38;5;28mgetattr\u001b[39m(callable_, \u001b[38;5;124m\"\u001b[39m\u001b[38;5;124m_prefetch_first_result_\u001b[39m\u001b[38;5;124m\"\u001b[39m, \u001b[38;5;28;01mTrue\u001b[39;00m)\n\u001b[0;32m--> 155\u001b[0m     \u001b[38;5;28;01mreturn\u001b[39;00m \u001b[43m_StreamingResponseIterator\u001b[49m\u001b[43m(\u001b[49m\n\u001b[1;32m    156\u001b[0m \u001b[43m        \u001b[49m\u001b[43mresult\u001b[49m\u001b[43m,\u001b[49m\u001b[43m \u001b[49m\u001b[43mprefetch_first_result\u001b[49m\u001b[38;5;241;43m=\u001b[39;49m\u001b[43mprefetch_first\u001b[49m\n\u001b[1;32m    157\u001b[0m \u001b[43m    \u001b[49m\u001b[43m)\u001b[49m\n\u001b[1;32m    158\u001b[0m \u001b[38;5;28;01mexcept\u001b[39;00m grpc\u001b[38;5;241m.\u001b[39mRpcError \u001b[38;5;28;01mas\u001b[39;00m exc:\n",
      "File \u001b[0;32m/opt/conda/lib/python3.10/site-packages/google/api_core/grpc_helpers.py:81\u001b[0m, in \u001b[0;36m_StreamingResponseIterator.__init__\u001b[0;34m(self, wrapped, prefetch_first_result)\u001b[0m\n\u001b[1;32m     80\u001b[0m     \u001b[38;5;28;01mif\u001b[39;00m prefetch_first_result:\n\u001b[0;32m---> 81\u001b[0m         \u001b[38;5;28mself\u001b[39m\u001b[38;5;241m.\u001b[39m_stored_first_result \u001b[38;5;241m=\u001b[39m \u001b[38;5;28;43mnext\u001b[39;49m\u001b[43m(\u001b[49m\u001b[38;5;28;43mself\u001b[39;49m\u001b[38;5;241;43m.\u001b[39;49m\u001b[43m_wrapped\u001b[49m\u001b[43m)\u001b[49m\n\u001b[1;32m     82\u001b[0m \u001b[38;5;28;01mexcept\u001b[39;00m \u001b[38;5;167;01mTypeError\u001b[39;00m:\n\u001b[1;32m     83\u001b[0m     \u001b[38;5;66;03m# It is possible the wrapped method isn't an iterable (a grpc.Call\u001b[39;00m\n\u001b[1;32m     84\u001b[0m     \u001b[38;5;66;03m# for instance). If this happens don't store the first result.\u001b[39;00m\n",
      "File \u001b[0;32m/opt/conda/lib/python3.10/site-packages/grpc/_channel.py:543\u001b[0m, in \u001b[0;36m_Rendezvous.__next__\u001b[0;34m(self)\u001b[0m\n\u001b[1;32m    542\u001b[0m \u001b[38;5;28;01mdef\u001b[39;00m \u001b[38;5;21m__next__\u001b[39m(\u001b[38;5;28mself\u001b[39m):\n\u001b[0;32m--> 543\u001b[0m     \u001b[38;5;28;01mreturn\u001b[39;00m \u001b[38;5;28;43mself\u001b[39;49m\u001b[38;5;241;43m.\u001b[39;49m\u001b[43m_next\u001b[49m\u001b[43m(\u001b[49m\u001b[43m)\u001b[49m\n",
      "File \u001b[0;32m/opt/conda/lib/python3.10/site-packages/grpc/_channel.py:969\u001b[0m, in \u001b[0;36m_MultiThreadedRendezvous._next\u001b[0;34m(self)\u001b[0m\n\u001b[1;32m    968\u001b[0m \u001b[38;5;28;01melif\u001b[39;00m \u001b[38;5;28mself\u001b[39m\u001b[38;5;241m.\u001b[39m_state\u001b[38;5;241m.\u001b[39mcode \u001b[38;5;129;01mis\u001b[39;00m \u001b[38;5;129;01mnot\u001b[39;00m \u001b[38;5;28;01mNone\u001b[39;00m:\n\u001b[0;32m--> 969\u001b[0m     \u001b[38;5;28;01mraise\u001b[39;00m \u001b[38;5;28mself\u001b[39m\n",
      "\u001b[0;31m_MultiThreadedRendezvous\u001b[0m: <_MultiThreadedRendezvous of RPC that terminated with:\n\tstatus = StatusCode.INVALID_ARGUMENT\n\tdetails = \"Unable to submit request because it has an empty text parameter. Add a value to the parameter and try again. Learn more: https://cloud.google.com/vertex-ai/generative-ai/docs/model-reference/gemini\"\n\tdebug_error_string = \"UNKNOWN:Error received from peer ipv4:64.233.183.95:443 {created_time:\"2024-05-27T14:54:10.412382362+00:00\", grpc_status:3, grpc_message:\"Unable to submit request because it has an empty text parameter. Add a value to the parameter and try again. Learn more: https://cloud.google.com/vertex-ai/generative-ai/docs/model-reference/gemini\"}\"\n>",
      "\nThe above exception was the direct cause of the following exception:\n",
      "\u001b[0;31mInvalidArgument\u001b[0m                           Traceback (most recent call last)",
      "Cell \u001b[0;32mIn[29], line 1\u001b[0m\n\u001b[0;32m----> 1\u001b[0m Markdown(\u001b[43mget_gemini_response\u001b[49m\u001b[43m(\u001b[49m\u001b[43mmodel\u001b[49m\u001b[43m,\u001b[49m\u001b[43m \u001b[49m\u001b[43mmodel_input\u001b[49m\u001b[38;5;241;43m=\u001b[39;49m\u001b[43mfinal_prompt\u001b[49m\u001b[43m,\u001b[49m\u001b[43m \u001b[49m\u001b[43mstream\u001b[49m\u001b[38;5;241;43m=\u001b[39;49m\u001b[38;5;28;43;01mTrue\u001b[39;49;00m\u001b[43m)\u001b[49m)\n",
      "File \u001b[0;32m/home/jupyter/utils/intro_multimodal_rag_utils.py:366\u001b[0m, in \u001b[0;36mget_gemini_response\u001b[0;34m(generative_multimodal_model, model_input, stream, generation_config, safety_settings)\u001b[0m\n\u001b[1;32m    358\u001b[0m response \u001b[38;5;241m=\u001b[39m generative_multimodal_model\u001b[38;5;241m.\u001b[39mgenerate_content(\n\u001b[1;32m    359\u001b[0m     model_input,\n\u001b[1;32m    360\u001b[0m     generation_config\u001b[38;5;241m=\u001b[39mgeneration_config,\n\u001b[1;32m    361\u001b[0m     stream\u001b[38;5;241m=\u001b[39mstream,\n\u001b[1;32m    362\u001b[0m     safety_settings\u001b[38;5;241m=\u001b[39msafety_settings,\n\u001b[1;32m    363\u001b[0m )\n\u001b[1;32m    364\u001b[0m response_list \u001b[38;5;241m=\u001b[39m []\n\u001b[0;32m--> 366\u001b[0m \u001b[38;5;28;01mfor\u001b[39;00m chunk \u001b[38;5;129;01min\u001b[39;00m response:\n\u001b[1;32m    367\u001b[0m     \u001b[38;5;28;01mtry\u001b[39;00m:\n\u001b[1;32m    368\u001b[0m         response_list\u001b[38;5;241m.\u001b[39mappend(chunk\u001b[38;5;241m.\u001b[39mtext)\n",
      "File \u001b[0;32m~/.local/lib/python3.10/site-packages/vertexai/generative_models/_generative_models.py:572\u001b[0m, in \u001b[0;36m_GenerativeModel._generate_content_streaming\u001b[0;34m(self, contents, generation_config, safety_settings, tools, tool_config)\u001b[0m\n\u001b[1;32m    547\u001b[0m \u001b[38;5;250m\u001b[39m\u001b[38;5;124;03m\"\"\"Generates content.\u001b[39;00m\n\u001b[1;32m    548\u001b[0m \n\u001b[1;32m    549\u001b[0m \u001b[38;5;124;03mArgs:\u001b[39;00m\n\u001b[0;32m   (...)\u001b[0m\n\u001b[1;32m    563\u001b[0m \u001b[38;5;124;03m    A stream of GenerationResponse objects\u001b[39;00m\n\u001b[1;32m    564\u001b[0m \u001b[38;5;124;03m\"\"\"\u001b[39;00m\n\u001b[1;32m    565\u001b[0m request \u001b[38;5;241m=\u001b[39m \u001b[38;5;28mself\u001b[39m\u001b[38;5;241m.\u001b[39m_prepare_request(\n\u001b[1;32m    566\u001b[0m     contents\u001b[38;5;241m=\u001b[39mcontents,\n\u001b[1;32m    567\u001b[0m     generation_config\u001b[38;5;241m=\u001b[39mgeneration_config,\n\u001b[0;32m   (...)\u001b[0m\n\u001b[1;32m    570\u001b[0m     tool_config\u001b[38;5;241m=\u001b[39mtool_config,\n\u001b[1;32m    571\u001b[0m )\n\u001b[0;32m--> 572\u001b[0m response_stream \u001b[38;5;241m=\u001b[39m \u001b[38;5;28;43mself\u001b[39;49m\u001b[38;5;241;43m.\u001b[39;49m\u001b[43m_prediction_client\u001b[49m\u001b[38;5;241;43m.\u001b[39;49m\u001b[43mstream_generate_content\u001b[49m\u001b[43m(\u001b[49m\n\u001b[1;32m    573\u001b[0m \u001b[43m    \u001b[49m\u001b[43mrequest\u001b[49m\u001b[38;5;241;43m=\u001b[39;49m\u001b[43mrequest\u001b[49m\n\u001b[1;32m    574\u001b[0m \u001b[43m\u001b[49m\u001b[43m)\u001b[49m\n\u001b[1;32m    575\u001b[0m \u001b[38;5;28;01mfor\u001b[39;00m chunk \u001b[38;5;129;01min\u001b[39;00m response_stream:\n\u001b[1;32m    576\u001b[0m     \u001b[38;5;28;01myield\u001b[39;00m \u001b[38;5;28mself\u001b[39m\u001b[38;5;241m.\u001b[39m_parse_response(chunk)\n",
      "File \u001b[0;32m~/.local/lib/python3.10/site-packages/google/cloud/aiplatform_v1beta1/services/prediction_service/client.py:2228\u001b[0m, in \u001b[0;36mPredictionServiceClient.stream_generate_content\u001b[0;34m(self, request, model, contents, retry, timeout, metadata)\u001b[0m\n\u001b[1;32m   2225\u001b[0m \u001b[38;5;28mself\u001b[39m\u001b[38;5;241m.\u001b[39m_validate_universe_domain()\n\u001b[1;32m   2227\u001b[0m \u001b[38;5;66;03m# Send the request.\u001b[39;00m\n\u001b[0;32m-> 2228\u001b[0m response \u001b[38;5;241m=\u001b[39m \u001b[43mrpc\u001b[49m\u001b[43m(\u001b[49m\n\u001b[1;32m   2229\u001b[0m \u001b[43m    \u001b[49m\u001b[43mrequest\u001b[49m\u001b[43m,\u001b[49m\n\u001b[1;32m   2230\u001b[0m \u001b[43m    \u001b[49m\u001b[43mretry\u001b[49m\u001b[38;5;241;43m=\u001b[39;49m\u001b[43mretry\u001b[49m\u001b[43m,\u001b[49m\n\u001b[1;32m   2231\u001b[0m \u001b[43m    \u001b[49m\u001b[43mtimeout\u001b[49m\u001b[38;5;241;43m=\u001b[39;49m\u001b[43mtimeout\u001b[49m\u001b[43m,\u001b[49m\n\u001b[1;32m   2232\u001b[0m \u001b[43m    \u001b[49m\u001b[43mmetadata\u001b[49m\u001b[38;5;241;43m=\u001b[39;49m\u001b[43mmetadata\u001b[49m\u001b[43m,\u001b[49m\n\u001b[1;32m   2233\u001b[0m \u001b[43m\u001b[49m\u001b[43m)\u001b[49m\n\u001b[1;32m   2235\u001b[0m \u001b[38;5;66;03m# Done; return the response.\u001b[39;00m\n\u001b[1;32m   2236\u001b[0m \u001b[38;5;28;01mreturn\u001b[39;00m response\n",
      "File \u001b[0;32m/opt/conda/lib/python3.10/site-packages/google/api_core/gapic_v1/method.py:113\u001b[0m, in \u001b[0;36m_GapicCallable.__call__\u001b[0;34m(self, timeout, retry, *args, **kwargs)\u001b[0m\n\u001b[1;32m    110\u001b[0m     metadata\u001b[38;5;241m.\u001b[39mextend(\u001b[38;5;28mself\u001b[39m\u001b[38;5;241m.\u001b[39m_metadata)\n\u001b[1;32m    111\u001b[0m     kwargs[\u001b[38;5;124m\"\u001b[39m\u001b[38;5;124mmetadata\u001b[39m\u001b[38;5;124m\"\u001b[39m] \u001b[38;5;241m=\u001b[39m metadata\n\u001b[0;32m--> 113\u001b[0m \u001b[38;5;28;01mreturn\u001b[39;00m \u001b[43mwrapped_func\u001b[49m\u001b[43m(\u001b[49m\u001b[38;5;241;43m*\u001b[39;49m\u001b[43margs\u001b[49m\u001b[43m,\u001b[49m\u001b[43m \u001b[49m\u001b[38;5;241;43m*\u001b[39;49m\u001b[38;5;241;43m*\u001b[39;49m\u001b[43mkwargs\u001b[49m\u001b[43m)\u001b[49m\n",
      "File \u001b[0;32m/opt/conda/lib/python3.10/site-packages/google/api_core/grpc_helpers.py:159\u001b[0m, in \u001b[0;36m_wrap_stream_errors.<locals>.error_remapped_callable\u001b[0;34m(*args, **kwargs)\u001b[0m\n\u001b[1;32m    155\u001b[0m     \u001b[38;5;28;01mreturn\u001b[39;00m _StreamingResponseIterator(\n\u001b[1;32m    156\u001b[0m         result, prefetch_first_result\u001b[38;5;241m=\u001b[39mprefetch_first\n\u001b[1;32m    157\u001b[0m     )\n\u001b[1;32m    158\u001b[0m \u001b[38;5;28;01mexcept\u001b[39;00m grpc\u001b[38;5;241m.\u001b[39mRpcError \u001b[38;5;28;01mas\u001b[39;00m exc:\n\u001b[0;32m--> 159\u001b[0m     \u001b[38;5;28;01mraise\u001b[39;00m exceptions\u001b[38;5;241m.\u001b[39mfrom_grpc_error(exc) \u001b[38;5;28;01mfrom\u001b[39;00m \u001b[38;5;21;01mexc\u001b[39;00m\n",
      "\u001b[0;31mInvalidArgument\u001b[0m: 400 Unable to submit request because it has an empty text parameter. Add a value to the parameter and try again. Learn more: https://cloud.google.com/vertex-ai/generative-ai/docs/model-reference/gemini"
     ]
    }
   ],
   "source": [
    "Markdown(get_gemini_response(model, model_input=final_prompt, stream=True))"
   ]
  },
  {
   "cell_type": "code",
   "execution_count": 30,
   "id": "71941d94-69a3-492f-a143-cdea3a6900b9",
   "metadata": {
    "tags": []
   },
   "outputs": [
    {
     "name": "stdout",
     "output_type": "stream",
     "text": [
      "---------------Matched Images------------------\n",
      "\n"
     ]
    },
    {
     "ename": "NameError",
     "evalue": "name 'matching_results_image_fromdescription_data' is not defined",
     "output_type": "error",
     "traceback": [
      "\u001b[0;31m---------------------------------------------------------------------------\u001b[0m",
      "\u001b[0;31mNameError\u001b[0m                                 Traceback (most recent call last)",
      "Cell \u001b[0;32mIn[30], line 4\u001b[0m\n\u001b[1;32m      1\u001b[0m \u001b[38;5;28mprint\u001b[39m(\u001b[38;5;124m\"\u001b[39m\u001b[38;5;124m---------------Matched Images------------------\u001b[39m\u001b[38;5;130;01m\\n\u001b[39;00m\u001b[38;5;124m\"\u001b[39m)\n\u001b[1;32m      2\u001b[0m display_images(\n\u001b[1;32m      3\u001b[0m     [\n\u001b[0;32m----> 4\u001b[0m         \u001b[43mmatching_results_image_fromdescription_data\u001b[49m[\u001b[38;5;241m0\u001b[39m][\u001b[38;5;124m\"\u001b[39m\u001b[38;5;124mimg_path\u001b[39m\u001b[38;5;124m\"\u001b[39m],\n\u001b[1;32m      5\u001b[0m         matching_results_image_fromdescription_data[\u001b[38;5;241m1\u001b[39m][\u001b[38;5;124m\"\u001b[39m\u001b[38;5;124mimg_path\u001b[39m\u001b[38;5;124m\"\u001b[39m],\n\u001b[1;32m      6\u001b[0m     ],\n\u001b[1;32m      7\u001b[0m     resize_ratio\u001b[38;5;241m=\u001b[39m\u001b[38;5;241m0.8\u001b[39m,\n\u001b[1;32m      8\u001b[0m )\n",
      "\u001b[0;31mNameError\u001b[0m: name 'matching_results_image_fromdescription_data' is not defined"
     ]
    }
   ],
   "source": [
    "print(\"---------------Matched Images------------------\\n\")\n",
    "display_images(\n",
    "    [\n",
    "        matching_results_image_fromdescription_data[0][\"img_path\"],\n",
    "        matching_results_image_fromdescription_data[1][\"img_path\"],\n",
    "    ],\n",
    "    resize_ratio=0.8,\n",
    ")"
   ]
  },
  {
   "cell_type": "code",
   "execution_count": 31,
   "id": "eee4edba-bf06-4697-8d4b-e015f4dd3344",
   "metadata": {
    "tags": []
   },
   "outputs": [
    {
     "ename": "NameError",
     "evalue": "name 'matching_results_image_fromdescription_data' is not defined",
     "output_type": "error",
     "traceback": [
      "\u001b[0;31m---------------------------------------------------------------------------\u001b[0m",
      "\u001b[0;31mNameError\u001b[0m                                 Traceback (most recent call last)",
      "Cell \u001b[0;32mIn[31], line 4\u001b[0m\n\u001b[1;32m      1\u001b[0m \u001b[38;5;66;03m# Image citations. You can check how Gemini generated metadata helped in grounding the answer.\u001b[39;00m\n\u001b[1;32m      3\u001b[0m print_text_to_image_citation(\n\u001b[0;32m----> 4\u001b[0m     \u001b[43mmatching_results_image_fromdescription_data\u001b[49m, print_top\u001b[38;5;241m=\u001b[39m\u001b[38;5;28;01mFalse\u001b[39;00m\n\u001b[1;32m      5\u001b[0m )\n",
      "\u001b[0;31mNameError\u001b[0m: name 'matching_results_image_fromdescription_data' is not defined"
     ]
    }
   ],
   "source": [
    "# Image citations. You can check how Gemini generated metadata helped in grounding the answer.\n",
    "\n",
    "print_text_to_image_citation(\n",
    "    matching_results_image_fromdescription_data, print_top=False\n",
    ")"
   ]
  },
  {
   "cell_type": "code",
   "execution_count": 32,
   "id": "7abb2015-18bd-43c7-8fa3-fe8392ec0de4",
   "metadata": {
    "tags": []
   },
   "outputs": [
    {
     "ename": "NameError",
     "evalue": "name 'matching_results_chunks_data' is not defined",
     "output_type": "error",
     "traceback": [
      "\u001b[0;31m---------------------------------------------------------------------------\u001b[0m",
      "\u001b[0;31mNameError\u001b[0m                                 Traceback (most recent call last)",
      "Cell \u001b[0;32mIn[32], line 4\u001b[0m\n\u001b[1;32m      1\u001b[0m \u001b[38;5;66;03m# Text citations\u001b[39;00m\n\u001b[1;32m      3\u001b[0m print_text_to_text_citation(\n\u001b[0;32m----> 4\u001b[0m     \u001b[43mmatching_results_chunks_data\u001b[49m,\n\u001b[1;32m      5\u001b[0m     print_top\u001b[38;5;241m=\u001b[39m\u001b[38;5;28;01mFalse\u001b[39;00m,\n\u001b[1;32m      6\u001b[0m     chunk_text\u001b[38;5;241m=\u001b[39m\u001b[38;5;28;01mTrue\u001b[39;00m,\n\u001b[1;32m      7\u001b[0m )\n",
      "\u001b[0;31mNameError\u001b[0m: name 'matching_results_chunks_data' is not defined"
     ]
    }
   ],
   "source": [
    "# Text citations\n",
    "\n",
    "print_text_to_text_citation(\n",
    "    matching_results_chunks_data,\n",
    "    print_top=False,\n",
    "    chunk_text=True,\n",
    ")"
   ]
  },
  {
   "cell_type": "code",
   "execution_count": null,
   "id": "d91631e7-67fe-41f5-a931-0eaf9c0ddb16",
   "metadata": {},
   "outputs": [],
   "source": []
  }
 ],
 "metadata": {
  "environment": {
   "kernel": "python3",
   "name": ".m121",
   "type": "gcloud",
   "uri": "us-docker.pkg.dev/deeplearning-platform-release/gcr.io/:m121"
  },
  "kernelspec": {
   "display_name": "Python 3 (ipykernel) (Local)",
   "language": "python",
   "name": "python3"
  },
  "language_info": {
   "codemirror_mode": {
    "name": "ipython",
    "version": 3
   },
   "file_extension": ".py",
   "mimetype": "text/x-python",
   "name": "python",
   "nbconvert_exporter": "python",
   "pygments_lexer": "ipython3",
   "version": "3.10.14"
  }
 },
 "nbformat": 4,
 "nbformat_minor": 5
}
